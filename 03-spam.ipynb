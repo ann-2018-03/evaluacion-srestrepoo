{
  "nbformat": 4,
  "nbformat_minor": 0,
  "metadata": {
    "colab": {
      "name": "03-spam.ipynb",
      "version": "0.3.2",
      "provenance": [],
      "collapsed_sections": []
    },
    "language_info": {
      "codemirror_mode": {
        "name": "ipython",
        "version": 3
      },
      "file_extension": ".py",
      "mimetype": "text/x-python",
      "name": "python",
      "nbconvert_exporter": "python",
      "pygments_lexer": "ipython3",
      "version": "3.6.7"
    },
    "kernelspec": {
      "display_name": "Python 3",
      "language": "python",
      "name": "python3"
    }
  },
  "cells": [
    {
      "metadata": {
        "id": "paLq7c4Nd4rl",
        "colab_type": "code",
        "colab": {}
      },
      "cell_type": "code",
      "source": [
        "import glob\n",
        "import pandas as pd\n",
        "import matplotlib.pyplot as plt\n",
        "import nltk\n",
        "from nltk.stem import SnowballStemmer\n",
        "from nltk.corpus import stopwords\n",
        "import numpy as np\n",
        "import re\n",
        "import seaborn as sns\n",
        "import string\n",
        "from sklearn.feature_extraction.text import CountVectorizer\n",
        "from sklearn.linear_model import LogisticRegression\n",
        "from sklearn.metrics import confusion_matrix\n",
        "from sklearn.model_selection import train_test_split\n",
        "from sklearn.metrics import accuracy_score\n",
        "from sklearn.metrics import classification_report\n",
        "import keras\n",
        "from keras.models import Sequential\n",
        "from keras.layers import Dense\n",
        "from sklearn.metrics import confusion_matrix\n",
        "from sklearn.model_selection import GridSearchCV\n",
        "from sklearn.model_selection import cross_val_score\n",
        "from keras.wrappers.scikit_learn import KerasClassifier\n",
        "from keras.layers import Dropout\n",
        "from keras.callbacks import EarlyStopping, ReduceLROnPlateau\n"
      ],
      "execution_count": 0,
      "outputs": []
    },
    {
      "metadata": {
        "id": "XVAroQR6d4rx",
        "colab_type": "text"
      },
      "cell_type": "markdown",
      "source": [
        "### Read data"
      ]
    },
    {
      "metadata": {
        "id": "qG2POx_gd4r0",
        "colab_type": "code",
        "colab": {}
      },
      "cell_type": "code",
      "source": [
        "df = pd.DataFrame(columns = ['label', 'content'])\n",
        "folders = glob.glob(\"./datos/spam-filter/*\")\n",
        "for folder_aux in folders:\n",
        "    folder_name = folder_aux + \"/*\"\n",
        "    folder = glob.glob(folder_name)\n",
        "    for file in folder:\n",
        "        try:\n",
        "            with open(file, encoding='utf-8') as f:\n",
        "                content = f.read()\n",
        "        except UnicodeDecodeError:\n",
        "            with open(file, 'rb') as f:\n",
        "                content = f.read()\n",
        "        df = df.append({'label': 0 if 'ham' in folder_name else 1, \n",
        "                        'content': str(content).replace('\\\\n', '\\n')}, ignore_index=True)"
      ],
      "execution_count": 0,
      "outputs": []
    },
    {
      "metadata": {
        "id": "ZCv4EZe9d4r6",
        "colab_type": "code",
        "colab": {}
      },
      "cell_type": "code",
      "source": [
        "df.to_csv(r'datos/spam-filter/dataFrame.csv')\n",
        "def remove_header(cols):\n",
        "    array_first = cols[1].replace('\\\\n', '\\n').split('\\n')\n",
        "    index_remove = 0\n",
        "    pattern = r'^[A-Za-z-]*: [a-zA-Z 0-9@.[\\]\\(\\)-]*'\n",
        "    for index, element in enumerate(array_first):\n",
        "        if re.search(pattern, element):\n",
        "            index_remove = index\n",
        "    return '\\n'.join(array_first[index_remove + 1:]).strip()\n",
        "\n",
        "def remove_tags_HTML(cols):\n",
        "    content = cols[1]\n",
        "    TAG_RE = re.compile(r'<[^>]+>')\n",
        "    TAG_REX = re.compile(r\"\\s+\")\n",
        "    content = TAG_RE.sub('', content)\n",
        "    content = TAG_REX.sub(' ', content)\n",
        "    return content\n",
        "\n",
        "def remove_spaces_tab(cols):\n",
        "    content = cols[1]\n",
        "    return content.replace(\"\\n\",\"\").strip(\"\\t\")\n",
        "\n",
        "def remove_web(cols):\n",
        "    content = cols[1]\n",
        "    TAG_RE = re.compile(r'https?:\\/\\/.*[\\n]*')\n",
        "    return TAG_RE.sub('', content)\n",
        "\n",
        "def remove_numbers(cols):\n",
        "    content = cols[1]\n",
        "    TAG_RE = re.compile(r'[0-9]*')\n",
        "    return TAG_RE.sub('', content)"
      ],
      "execution_count": 0,
      "outputs": []
    },
    {
      "metadata": {
        "id": "3qffZcjCd4sB",
        "colab_type": "code",
        "colab": {}
      },
      "cell_type": "code",
      "source": [
        "df['content'] = df.apply(remove_header, axis=1)\n",
        "df['content'] = df.apply(remove_tags_HTML, axis=1)\n",
        "df['content'] = df.apply(remove_spaces_tab, axis=1)\n",
        "df['content'] = df.apply(remove_numbers, axis=1)\n",
        "df['content'] = df.apply(remove_web, axis=1)\n",
        "X = df['content']\n",
        "y = df['label']"
      ],
      "execution_count": 0,
      "outputs": []
    },
    {
      "metadata": {
        "id": "sguBjWiMd4sd",
        "colab_type": "text"
      },
      "cell_type": "markdown",
      "source": [
        "### Procesamiento lenguaje"
      ]
    },
    {
      "metadata": {
        "id": "qBS6HURGd4sg",
        "colab_type": "code",
        "colab": {}
      },
      "cell_type": "code",
      "source": [
        "stemmer = SnowballStemmer(\"english\")\n",
        "\n",
        "def cleanText(message):   \n",
        "   \n",
        "    message = message.translate(str.maketrans('', '', string.punctuation))\n",
        "    words = [stemmer.stem(word) for word in message.split() if word.lower() not in stopwords.words(\"english\")]\n",
        "    return \" \".join(words)\n",
        "    \n",
        "X = list(map(cleanText, X))\n",
        "vectorizer = CountVectorizer()\n",
        "X = vectorizer.fit_transform(X)\n",
        "X = X.toarray()"
      ],
      "execution_count": 0,
      "outputs": []
    },
    {
      "metadata": {
        "id": "AdUM7FCMd4s9",
        "colab_type": "text"
      },
      "cell_type": "markdown",
      "source": [
        "## Regresión Logística"
      ]
    },
    {
      "metadata": {
        "id": "PEW5QfVnd4tD",
        "colab_type": "code",
        "colab": {}
      },
      "cell_type": "code",
      "source": [
        "y=y.astype('int')\n",
        "X_train, X_test, y_train, y_test = train_test_split(X, y , stratify = y, test_size = 0.3,random_state=101)\n",
        "clf = LogisticRegression(solver='lbfgs')\n",
        "clf.fit(X_train, y_train)\n",
        "y_pred = clf.predict(X_test)\n",
        "confusion_matrix(y_test, y_pred)"
      ],
      "execution_count": 0,
      "outputs": []
    },
    {
      "metadata": {
        "id": "ipbatIvdd4tS",
        "colab_type": "code",
        "outputId": "7c91d8ce-afb8-4353-8134-e4c322b7660b",
        "colab": {}
      },
      "cell_type": "code",
      "source": [
        "print(accuracy_score(y_test, y_pred))"
      ],
      "execution_count": 0,
      "outputs": [
        {
          "output_type": "stream",
          "text": [
            "0.9455026455026455\n"
          ],
          "name": "stdout"
        }
      ]
    },
    {
      "metadata": {
        "id": "jQYVrC97d4tc",
        "colab_type": "code",
        "outputId": "d5a54279-034e-4579-a0f3-14040481bb5d",
        "colab": {}
      },
      "cell_type": "code",
      "source": [
        "print(classification_report(y_test, y_pred))"
      ],
      "execution_count": 0,
      "outputs": [
        {
          "output_type": "stream",
          "text": [
            "              precision    recall  f1-score   support\n",
            "\n",
            "           0       0.94      0.98      0.96      1320\n",
            "           1       0.96      0.86      0.90       570\n",
            "\n",
            "   micro avg       0.95      0.95      0.95      1890\n",
            "   macro avg       0.95      0.92      0.93      1890\n",
            "weighted avg       0.95      0.95      0.94      1890\n",
            "\n"
          ],
          "name": "stdout"
        }
      ]
    },
    {
      "metadata": {
        "id": "f1LC7OZGd4tj",
        "colab_type": "text"
      },
      "cell_type": "markdown",
      "source": [
        "### Clasificador con RN"
      ]
    },
    {
      "metadata": {
        "colab_type": "code",
        "collapsed": true,
        "id": "pkFnVSJhgXMs",
        "outputId": "b64627bc-edd8-4ba1-bf25-7e21cc69d37d",
        "colab": {}
      },
      "cell_type": "code",
      "source": [
        "def grid_layers(capas):\n",
        "    param = []\n",
        "    for i in range(len(capas)):\n",
        "        classifier = Sequential()\n",
        "        classifier.add(Dense(units = 5, kernel_initializer = 'uniform', activation = 'relu', input_dim = 60982))\n",
        "        for j in range(capas[i]-1):\n",
        "            classifier.add(Dense(units = 5, kernel_initializer = 'uniform', activation = 'relu'))\n",
        "        classifier.add(Dense(units = 1, kernel_initializer = 'uniform', activation = 'sigmoid'))\n",
        "        classifier.compile(optimizer = 'adam', loss = 'binary_crossentropy', metrics = ['accuracy'])\n",
        "        classifier.fit(X_train, y_train, batch_size = 50, epochs = 30)\n",
        "        y_pred = classifier.predict(X_test)\n",
        "        y_pred = (y_pred > 0.5)\n",
        "        cm = confusion_matrix(y_test, y_pred)\n",
        "        param.append([classifier.summary(),cm,classifier.evaluate(X_test, y_test)])\n",
        "    return param\n",
        "layers = [2,5,8]\n",
        "resultado = grid_layers(layers)"
      ],
      "execution_count": 0,
      "outputs": [
        {
          "output_type": "stream",
          "text": [
            "Epoch 1/30\n",
            "4409/4409 [==============================] - 4s 921us/step - loss: 0.6744 - acc: 0.7419\n",
            "Epoch 2/30\n",
            "4409/4409 [==============================] - 4s 801us/step - loss: 0.4822 - acc: 0.9428\n",
            "Epoch 3/30\n",
            "4409/4409 [==============================] - 4s 801us/step - loss: 0.2597 - acc: 0.9698\n",
            "Epoch 4/30\n",
            "4409/4409 [==============================] - 4s 800us/step - loss: 0.1559 - acc: 0.9785\n",
            "Epoch 5/30\n",
            "4409/4409 [==============================] - 4s 802us/step - loss: 0.1072 - acc: 0.9844\n",
            "Epoch 6/30\n",
            "4409/4409 [==============================] - 4s 804us/step - loss: 0.0804 - acc: 0.9866\n",
            "Epoch 7/30\n",
            "4409/4409 [==============================] - 4s 805us/step - loss: 0.0638 - acc: 0.9873\n",
            "Epoch 8/30\n",
            "4409/4409 [==============================] - 4s 800us/step - loss: 0.0527 - acc: 0.9880\n",
            "Epoch 9/30\n",
            "4409/4409 [==============================] - 4s 803us/step - loss: 0.0449 - acc: 0.9896\n",
            "Epoch 10/30\n",
            "4409/4409 [==============================] - 4s 797us/step - loss: 0.0391 - acc: 0.9900\n",
            "Epoch 11/30\n",
            "4409/4409 [==============================] - 4s 798us/step - loss: 0.0348 - acc: 0.9907\n",
            "Epoch 12/30\n",
            "4409/4409 [==============================] - 4s 798us/step - loss: 0.0315 - acc: 0.9918\n",
            "Epoch 13/30\n",
            "4409/4409 [==============================] - 4s 795us/step - loss: 0.0288 - acc: 0.9923\n",
            "Epoch 14/30\n",
            "4409/4409 [==============================] - 4s 798us/step - loss: 0.0267 - acc: 0.9923\n",
            "Epoch 15/30\n",
            "4409/4409 [==============================] - 4s 803us/step - loss: 0.0250 - acc: 0.9925\n",
            "Epoch 16/30\n",
            "4409/4409 [==============================] - 4s 819us/step - loss: 0.0236 - acc: 0.9932\n",
            "Epoch 17/30\n",
            "4409/4409 [==============================] - 4s 798us/step - loss: 0.0224 - acc: 0.9934\n",
            "Epoch 18/30\n",
            "4409/4409 [==============================] - 4s 806us/step - loss: 0.0214 - acc: 0.9936\n",
            "Epoch 19/30\n",
            "4409/4409 [==============================] - 3s 792us/step - loss: 0.0205 - acc: 0.9939\n",
            "Epoch 20/30\n",
            "4409/4409 [==============================] - 4s 796us/step - loss: 0.0198 - acc: 0.9939\n",
            "Epoch 21/30\n",
            "4409/4409 [==============================] - 4s 796us/step - loss: 0.0190 - acc: 0.9941\n",
            "Epoch 22/30\n",
            "4409/4409 [==============================] - 3s 794us/step - loss: 0.0185 - acc: 0.9941\n",
            "Epoch 23/30\n",
            "4409/4409 [==============================] - 4s 797us/step - loss: 0.0179 - acc: 0.9941\n",
            "Epoch 24/30\n",
            "4409/4409 [==============================] - 4s 800us/step - loss: 0.0175 - acc: 0.9941\n",
            "Epoch 25/30\n",
            "4409/4409 [==============================] - 4s 806us/step - loss: 0.0171 - acc: 0.9946\n",
            "Epoch 26/30\n",
            "4409/4409 [==============================] - 4s 799us/step - loss: 0.0168 - acc: 0.9946\n",
            "Epoch 27/30\n",
            "4409/4409 [==============================] - 4s 798us/step - loss: 0.0163 - acc: 0.9946\n",
            "Epoch 28/30\n",
            "4409/4409 [==============================] - 4s 798us/step - loss: 0.0160 - acc: 0.9946\n",
            "Epoch 29/30\n",
            "4409/4409 [==============================] - 4s 801us/step - loss: 0.0158 - acc: 0.9946\n",
            "Epoch 30/30\n",
            "4409/4409 [==============================] - 4s 803us/step - loss: 0.0156 - acc: 0.9946\n",
            "_________________________________________________________________\n",
            "Layer (type)                 Output Shape              Param #   \n",
            "=================================================================\n",
            "dense_36 (Dense)             (None, 5)                 304915    \n",
            "_________________________________________________________________\n",
            "dense_37 (Dense)             (None, 5)                 30        \n",
            "_________________________________________________________________\n",
            "dense_38 (Dense)             (None, 1)                 6         \n",
            "=================================================================\n",
            "Total params: 304,951\n",
            "Trainable params: 304,951\n",
            "Non-trainable params: 0\n",
            "_________________________________________________________________\n",
            "1890/1890 [==============================] - 1s 668us/step\n",
            "Epoch 1/30\n",
            "4409/4409 [==============================] - 4s 957us/step - loss: 0.6847 - acc: 0.6983\n",
            "Epoch 2/30\n",
            "4409/4409 [==============================] - 4s 810us/step - loss: 0.6702 - acc: 0.6986\n",
            "Epoch 3/30\n",
            "4409/4409 [==============================] - 4s 816us/step - loss: 0.6582 - acc: 0.6986\n",
            "Epoch 4/30\n",
            "4409/4409 [==============================] - 4s 822us/step - loss: 0.6483 - acc: 0.6986\n",
            "Epoch 5/30\n",
            "4409/4409 [==============================] - 4s 816us/step - loss: 0.6403 - acc: 0.6986\n",
            "Epoch 6/30\n",
            "4409/4409 [==============================] - 4s 815us/step - loss: 0.6338 - acc: 0.6986\n",
            "Epoch 7/30\n",
            "4409/4409 [==============================] - 4s 818us/step - loss: 0.6287 - acc: 0.6986\n",
            "Epoch 8/30\n",
            "4409/4409 [==============================] - 4s 865us/step - loss: 0.6245 - acc: 0.6986\n",
            "Epoch 9/30\n",
            "4409/4409 [==============================] - 4s 873us/step - loss: 0.6214 - acc: 0.6986\n",
            "Epoch 10/30\n",
            "4409/4409 [==============================] - 4s 878us/step - loss: 0.6189 - acc: 0.6986\n",
            "Epoch 11/30\n",
            "4409/4409 [==============================] - 4s 852us/step - loss: 0.6170 - acc: 0.6986\n",
            "Epoch 12/30\n",
            "4409/4409 [==============================] - 4s 861us/step - loss: 0.6156 - acc: 0.6986\n",
            "Epoch 13/30\n",
            "4409/4409 [==============================] - 4s 835us/step - loss: 0.6146 - acc: 0.6986\n",
            "Epoch 14/30\n",
            "4409/4409 [==============================] - 4s 849us/step - loss: 0.6139 - acc: 0.6986\n",
            "Epoch 15/30\n",
            "4409/4409 [==============================] - 4s 858us/step - loss: 0.6133 - acc: 0.6986\n",
            "Epoch 16/30\n",
            "4409/4409 [==============================] - 4s 866us/step - loss: 0.6130 - acc: 0.6986\n",
            "Epoch 17/30\n",
            "4409/4409 [==============================] - 4s 864us/step - loss: 0.6127 - acc: 0.6986\n",
            "Epoch 18/30\n",
            "4409/4409 [==============================] - 4s 858us/step - loss: 0.6125 - acc: 0.6986\n",
            "Epoch 19/30\n",
            "4409/4409 [==============================] - 4s 855us/step - loss: 0.6124 - acc: 0.6986\n",
            "Epoch 20/30\n",
            "4409/4409 [==============================] - 4s 847us/step - loss: 0.6123 - acc: 0.6986\n",
            "Epoch 21/30\n",
            "4409/4409 [==============================] - 4s 850us/step - loss: 0.6122 - acc: 0.6986\n",
            "Epoch 22/30\n",
            "4409/4409 [==============================] - 4s 848us/step - loss: 0.6121 - acc: 0.6986\n",
            "Epoch 23/30\n",
            "4409/4409 [==============================] - 4s 854us/step - loss: 0.6121 - acc: 0.6986\n",
            "Epoch 24/30\n",
            "4409/4409 [==============================] - 4s 852us/step - loss: 0.6121 - acc: 0.6986\n",
            "Epoch 25/30\n",
            "4409/4409 [==============================] - 4s 848us/step - loss: 0.6121 - acc: 0.6986\n",
            "Epoch 26/30\n",
            "4409/4409 [==============================] - 4s 854us/step - loss: 0.6121 - acc: 0.6986\n",
            "Epoch 27/30\n",
            "4409/4409 [==============================] - 4s 862us/step - loss: 0.6121 - acc: 0.6986\n",
            "Epoch 28/30\n",
            "4409/4409 [==============================] - 4s 855us/step - loss: 0.6121 - acc: 0.6986\n",
            "Epoch 29/30\n",
            "4409/4409 [==============================] - 4s 866us/step - loss: 0.6121 - acc: 0.6986\n",
            "Epoch 30/30\n",
            "4409/4409 [==============================] - 4s 858us/step - loss: 0.6121 - acc: 0.6986\n",
            "_________________________________________________________________\n",
            "Layer (type)                 Output Shape              Param #   \n",
            "=================================================================\n",
            "dense_39 (Dense)             (None, 5)                 304915    \n",
            "_________________________________________________________________\n",
            "dense_40 (Dense)             (None, 5)                 30        \n",
            "_________________________________________________________________\n",
            "dense_41 (Dense)             (None, 5)                 30        \n",
            "_________________________________________________________________\n",
            "dense_42 (Dense)             (None, 5)                 30        \n",
            "_________________________________________________________________\n",
            "dense_43 (Dense)             (None, 5)                 30        \n",
            "_________________________________________________________________\n",
            "dense_44 (Dense)             (None, 1)                 6         \n",
            "=================================================================\n",
            "Total params: 305,041\n",
            "Trainable params: 305,041\n",
            "Non-trainable params: 0\n",
            "_________________________________________________________________\n",
            "1890/1890 [==============================] - 1s 733us/step\n",
            "Epoch 1/30\n",
            "4409/4409 [==============================] - 5s 1ms/step - loss: 0.6846 - acc: 0.6986\n",
            "Epoch 2/30\n",
            "4409/4409 [==============================] - 4s 820us/step - loss: 0.6611 - acc: 0.6986\n",
            "Epoch 3/30\n"
          ],
          "name": "stdout"
        },
        {
          "output_type": "stream",
          "text": [
            "4409/4409 [==============================] - 4s 810us/step - loss: 0.6339 - acc: 0.6986\n",
            "Epoch 4/30\n",
            "4409/4409 [==============================] - 4s 841us/step - loss: 0.6172 - acc: 0.6986\n",
            "Epoch 5/30\n",
            "4409/4409 [==============================] - 4s 847us/step - loss: 0.6126 - acc: 0.6986\n",
            "Epoch 6/30\n",
            "4409/4409 [==============================] - 4s 834us/step - loss: 0.6121 - acc: 0.6986\n",
            "Epoch 7/30\n",
            "4409/4409 [==============================] - 4s 842us/step - loss: 0.6122 - acc: 0.6986\n",
            "Epoch 8/30\n",
            "4409/4409 [==============================] - 4s 833us/step - loss: 0.6122 - acc: 0.6986\n",
            "Epoch 9/30\n",
            "4409/4409 [==============================] - 4s 837us/step - loss: 0.6121 - acc: 0.6986\n",
            "Epoch 10/30\n",
            "4409/4409 [==============================] - 4s 831us/step - loss: 0.6122 - acc: 0.6986\n",
            "Epoch 11/30\n",
            "4409/4409 [==============================] - 4s 839us/step - loss: 0.6122 - acc: 0.6986\n",
            "Epoch 12/30\n",
            "4409/4409 [==============================] - 4s 984us/step - loss: 0.6122 - acc: 0.6986\n",
            "Epoch 13/30\n",
            "4409/4409 [==============================] - 4s 883us/step - loss: 0.6122 - acc: 0.6986\n",
            "Epoch 14/30\n",
            "4409/4409 [==============================] - 4s 847us/step - loss: 0.6122 - acc: 0.6986\n",
            "Epoch 15/30\n",
            "4409/4409 [==============================] - 4s 815us/step - loss: 0.6122 - acc: 0.6986\n",
            "Epoch 16/30\n",
            "4409/4409 [==============================] - 4s 810us/step - loss: 0.6121 - acc: 0.6986\n",
            "Epoch 17/30\n",
            "4409/4409 [==============================] - 4s 807us/step - loss: 0.6121 - acc: 0.6986\n",
            "Epoch 18/30\n",
            "4409/4409 [==============================] - 4s 809us/step - loss: 0.6121 - acc: 0.6986\n",
            "Epoch 19/30\n",
            "4409/4409 [==============================] - 4s 813us/step - loss: 0.6121 - acc: 0.6986\n",
            "Epoch 20/30\n",
            "4409/4409 [==============================] - 4s 811us/step - loss: 0.6121 - acc: 0.6986\n",
            "Epoch 21/30\n",
            "4409/4409 [==============================] - 4s 808us/step - loss: 0.6122 - acc: 0.6986\n",
            "Epoch 22/30\n",
            "4409/4409 [==============================] - 4s 816us/step - loss: 0.6121 - acc: 0.6986\n",
            "Epoch 23/30\n",
            "4409/4409 [==============================] - 4s 808us/step - loss: 0.6121 - acc: 0.6986\n",
            "Epoch 24/30\n",
            "4409/4409 [==============================] - 4s 821us/step - loss: 0.6122 - acc: 0.6986\n",
            "Epoch 25/30\n",
            "4409/4409 [==============================] - 4s 838us/step - loss: 0.6122 - acc: 0.6986\n",
            "Epoch 26/30\n",
            "4409/4409 [==============================] - 4s 816us/step - loss: 0.6122 - acc: 0.6986\n",
            "Epoch 27/30\n",
            "4409/4409 [==============================] - 4s 898us/step - loss: 0.6122 - acc: 0.6986\n",
            "Epoch 28/30\n",
            "4409/4409 [==============================] - 4s 988us/step - loss: 0.6122 - acc: 0.6986\n",
            "Epoch 29/30\n",
            "4409/4409 [==============================] - 4s 972us/step - loss: 0.6122 - acc: 0.6986\n",
            "Epoch 30/30\n",
            "4409/4409 [==============================] - 4s 981us/step - loss: 0.6122 - acc: 0.6986\n",
            "_________________________________________________________________\n",
            "Layer (type)                 Output Shape              Param #   \n",
            "=================================================================\n",
            "dense_45 (Dense)             (None, 5)                 304915    \n",
            "_________________________________________________________________\n",
            "dense_46 (Dense)             (None, 5)                 30        \n",
            "_________________________________________________________________\n",
            "dense_47 (Dense)             (None, 5)                 30        \n",
            "_________________________________________________________________\n",
            "dense_48 (Dense)             (None, 5)                 30        \n",
            "_________________________________________________________________\n",
            "dense_49 (Dense)             (None, 5)                 30        \n",
            "_________________________________________________________________\n",
            "dense_50 (Dense)             (None, 5)                 30        \n",
            "_________________________________________________________________\n",
            "dense_51 (Dense)             (None, 5)                 30        \n",
            "_________________________________________________________________\n",
            "dense_52 (Dense)             (None, 5)                 30        \n",
            "_________________________________________________________________\n",
            "dense_53 (Dense)             (None, 1)                 6         \n",
            "=================================================================\n",
            "Total params: 305,131\n",
            "Trainable params: 305,131\n",
            "Non-trainable params: 0\n",
            "_________________________________________________________________\n",
            "1890/1890 [==============================] - 2s 801us/step\n"
          ],
          "name": "stdout"
        }
      ]
    },
    {
      "metadata": {
        "colab_type": "code",
        "id": "vuShxf64hVaI",
        "outputId": "4d704ab6-f3d6-4e3b-e5ef-029da6ccf0b0",
        "scrolled": true,
        "colab": {
          "base_uri": "https://localhost:8080/",
          "height": 158
        }
      },
      "cell_type": "code",
      "source": [
        "resultado\n",
        "# EL indicado es el #2"
      ],
      "execution_count": 0,
      "outputs": [
        {
          "output_type": "execute_result",
          "data": {
            "text/plain": [
              "[[None, array([[1290,   30],\n",
              "         [  59,  511]], dtype=int64), [0.1833308524856216,\n",
              "   0.9529100529100529]],\n",
              " [None, array([[1320,    0],\n",
              "         [ 570,    0]], dtype=int64), [0.612204247082352, 0.6984126984126984]],\n",
              " [None, array([[1320,    0],\n",
              "         [ 570,    0]], dtype=int64), [0.6122036979311989,\n",
              "   0.6984126984126984]]]"
            ]
          },
          "metadata": {
            "tags": []
          },
          "execution_count": 24
        }
      ]
    },
    {
      "metadata": {
        "id": "DJFA6Q_Pd4uD",
        "colab_type": "code",
        "colab": {}
      },
      "cell_type": "code",
      "source": [
        "precision = [i[2][1] for i in resultado]\n",
        "plt.bar([\"2 Capas\",\"5 Capas\",\"8 Capas\"],precision)"
      ],
      "execution_count": 0,
      "outputs": []
    },
    {
      "metadata": {
        "colab_type": "code",
        "id": "ophXa5p7jFpm",
        "outputId": "03bc943f-ab64-47da-e778-10963ea82d3a",
        "colab": {}
      },
      "cell_type": "code",
      "source": [
        "def grid_neurons(neuronas):\n",
        "    param = [] \n",
        "    for i in range(len(neuronas)):\n",
        "        classifier = Sequential()\n",
        "        classifier.add(Dense(units = neuronas[i], kernel_initializer = 'uniform', activation = 'relu', input_dim = 60982))\n",
        "        classifier.add(Dense(units = neuronas[i], kernel_initializer = 'uniform', activation = 'relu'))\n",
        "        classifier.add(Dense(units = 1, kernel_initializer = 'uniform', activation = 'sigmoid'))\n",
        "        classifier.compile(optimizer = 'adam', loss = 'binary_crossentropy', metrics = ['accuracy'])\n",
        "        classifier.fit(X_train, y_train, batch_size = 32, epochs = 30)\n",
        "        y_pred = classifier.predict(X_test)\n",
        "        y_pred = (y_pred > 0.5)\n",
        "        cm = confusion_matrix(y_test, y_pred)\n",
        "        param.append([classifier.summary(),cm,classifier.evaluate(X_test, y_test)])\n",
        "    return param\n",
        "neurons = [8,16,32,64]\n",
        "resultado_neuronas = grid_neurons(neurons)"
      ],
      "execution_count": 0,
      "outputs": [
        {
          "output_type": "stream",
          "text": [
            "Epoch 1/30\n",
            "4409/4409 [==============================] - 5s 1ms/step - loss: 0.5580 - acc: 0.6986\n",
            "Epoch 2/30\n",
            "4409/4409 [==============================] - 4s 950us/step - loss: 0.3134 - acc: 0.7954 0s - loss: 0.3172 - acc: 0.\n",
            "Epoch 3/30\n",
            "4409/4409 [==============================] - 4s 911us/step - loss: 0.1567 - acc: 0.9628\n",
            "Epoch 4/30\n",
            "4409/4409 [==============================] - 4s 909us/step - loss: 0.0827 - acc: 0.9782\n",
            "Epoch 5/30\n",
            "4409/4409 [==============================] - 4s 955us/step - loss: 0.0578 - acc: 0.9828\n",
            "Epoch 6/30\n",
            "4409/4409 [==============================] - 4s 957us/step - loss: 0.0441 - acc: 0.9866\n",
            "Epoch 7/30\n",
            "4409/4409 [==============================] - 4s 959us/step - loss: 0.0350 - acc: 0.9887 0s - loss: 0.0349 -\n",
            "Epoch 8/30\n",
            "4409/4409 [==============================] - 4s 960us/step - loss: 0.0293 - acc: 0.9912\n",
            "Epoch 9/30\n",
            "4409/4409 [==============================] - 4s 952us/step - loss: 0.0258 - acc: 0.9914 3s -\n",
            "Epoch 10/30\n",
            "4409/4409 [==============================] - 4s 922us/step - loss: 0.0231 - acc: 0.9921\n",
            "Epoch 11/30\n",
            "4409/4409 [==============================] - 4s 920us/step - loss: 0.0211 - acc: 0.9921\n",
            "Epoch 12/30\n",
            "4409/4409 [==============================] - 4s 920us/step - loss: 0.0195 - acc: 0.9934\n",
            "Epoch 13/30\n",
            "4409/4409 [==============================] - 4s 913us/step - loss: 0.0183 - acc: 0.9943\n",
            "Epoch 14/30\n",
            "4409/4409 [==============================] - 4s 907us/step - loss: 0.0174 - acc: 0.9943\n",
            "Epoch 15/30\n",
            "4409/4409 [==============================] - 4s 921us/step - loss: 0.0168 - acc: 0.9946\n",
            "Epoch 16/30\n",
            "4409/4409 [==============================] - 4s 918us/step - loss: 0.0161 - acc: 0.9946\n",
            "Epoch 17/30\n",
            "4409/4409 [==============================] - 4s 914us/step - loss: 0.0159 - acc: 0.9943\n",
            "Epoch 18/30\n",
            "4409/4409 [==============================] - 4s 920us/step - loss: 0.0152 - acc: 0.9946\n",
            "Epoch 19/30\n",
            "4409/4409 [==============================] - 4s 917us/step - loss: 0.0150 - acc: 0.9946\n",
            "Epoch 20/30\n",
            "4409/4409 [==============================] - 4s 914us/step - loss: 0.0147 - acc: 0.9946\n",
            "Epoch 21/30\n",
            "4409/4409 [==============================] - 4s 926us/step - loss: 0.0146 - acc: 0.9941\n",
            "Epoch 22/30\n",
            "4409/4409 [==============================] - 4s 916us/step - loss: 0.0144 - acc: 0.9946\n",
            "Epoch 23/30\n",
            "4409/4409 [==============================] - 4s 921us/step - loss: 0.0142 - acc: 0.9943\n",
            "Epoch 24/30\n",
            "4409/4409 [==============================] - 4s 923us/step - loss: 0.0142 - acc: 0.9943\n",
            "Epoch 25/30\n",
            "4409/4409 [==============================] - 4s 945us/step - loss: 0.0139 - acc: 0.9948\n",
            "Epoch 26/30\n",
            "4409/4409 [==============================] - 4s 969us/step - loss: 0.0139 - acc: 0.9943\n",
            "Epoch 27/30\n",
            "4409/4409 [==============================] - 4s 938us/step - loss: 0.0138 - acc: 0.9948\n",
            "Epoch 28/30\n",
            "4409/4409 [==============================] - 4s 946us/step - loss: 0.0137 - acc: 0.9948\n",
            "Epoch 29/30\n",
            "4409/4409 [==============================] - 4s 938us/step - loss: 0.0138 - acc: 0.9946\n",
            "Epoch 30/30\n",
            "4409/4409 [==============================] - 4s 1ms/step - loss: 0.0136 - acc: 0.9948\n",
            "_________________________________________________________________\n",
            "Layer (type)                 Output Shape              Param #   \n",
            "=================================================================\n",
            "dense_57 (Dense)             (None, 8)                 487864    \n",
            "_________________________________________________________________\n",
            "dense_58 (Dense)             (None, 8)                 72        \n",
            "_________________________________________________________________\n",
            "dense_59 (Dense)             (None, 1)                 9         \n",
            "=================================================================\n",
            "Total params: 487,945\n",
            "Trainable params: 487,945\n",
            "Non-trainable params: 0\n",
            "_________________________________________________________________\n",
            "1890/1890 [==============================] - 1s 742us/step\n",
            "Epoch 1/30\n",
            "4409/4409 [==============================] - 7s 2ms/step - loss: 0.4908 - acc: 0.8276\n",
            "Epoch 2/30\n",
            "4409/4409 [==============================] - 6s 1ms/step - loss: 0.1509 - acc: 0.9601\n",
            "Epoch 3/30\n",
            "4409/4409 [==============================] - 6s 1ms/step - loss: 0.0790 - acc: 0.9780\n",
            "Epoch 4/30\n",
            "4409/4409 [==============================] - 5s 1ms/step - loss: 0.0520 - acc: 0.9855\n",
            "Epoch 5/30\n",
            "4409/4409 [==============================] - 5s 1ms/step - loss: 0.0370 - acc: 0.9893\n",
            "Epoch 6/30\n",
            "4409/4409 [==============================] - 5s 1ms/step - loss: 0.0296 - acc: 0.9914\n",
            "Epoch 7/30\n",
            "4409/4409 [==============================] - 5s 1ms/step - loss: 0.0255 - acc: 0.9918\n",
            "Epoch 8/30\n",
            "4409/4409 [==============================] - 5s 1ms/step - loss: 0.0227 - acc: 0.9932\n",
            "Epoch 9/30\n",
            "4409/4409 [==============================] - 5s 1ms/step - loss: 0.0212 - acc: 0.9939\n",
            "Epoch 10/30\n",
            "4409/4409 [==============================] - 5s 1ms/step - loss: 0.0201 - acc: 0.9943\n",
            "Epoch 11/30\n",
            "4409/4409 [==============================] - 5s 1ms/step - loss: 0.0194 - acc: 0.9941\n",
            "Epoch 12/30\n",
            "4409/4409 [==============================] - 5s 1ms/step - loss: 0.0188 - acc: 0.9941\n",
            "Epoch 13/30\n",
            "4409/4409 [==============================] - 5s 1ms/step - loss: 0.0184 - acc: 0.9941\n",
            "Epoch 14/30\n",
            "4409/4409 [==============================] - 5s 1ms/step - loss: 0.0181 - acc: 0.9943\n",
            "Epoch 15/30\n",
            "4409/4409 [==============================] - 5s 1ms/step - loss: 0.0178 - acc: 0.9943\n",
            "Epoch 16/30\n",
            "4409/4409 [==============================] - 5s 1ms/step - loss: 0.0177 - acc: 0.9943\n",
            "Epoch 17/30\n",
            "4409/4409 [==============================] - 5s 1ms/step - loss: 0.0177 - acc: 0.9948\n",
            "Epoch 18/30\n",
            "4409/4409 [==============================] - 5s 1ms/step - loss: 0.0176 - acc: 0.9943\n",
            "Epoch 19/30\n",
            "4409/4409 [==============================] - 5s 1ms/step - loss: 0.0176 - acc: 0.9941\n",
            "Epoch 20/30\n",
            "4409/4409 [==============================] - 5s 1ms/step - loss: 0.0174 - acc: 0.9943\n",
            "Epoch 21/30\n",
            "4409/4409 [==============================] - 5s 1ms/step - loss: 0.0174 - acc: 0.9946\n",
            "Epoch 22/30\n",
            "4409/4409 [==============================] - 5s 1ms/step - loss: 0.0173 - acc: 0.9943\n",
            "Epoch 23/30\n",
            "4409/4409 [==============================] - 5s 1ms/step - loss: 0.0173 - acc: 0.9946\n",
            "Epoch 24/30\n",
            "4409/4409 [==============================] - 5s 1ms/step - loss: 0.0170 - acc: 0.9946\n",
            "Epoch 25/30\n",
            "4409/4409 [==============================] - 6s 1ms/step - loss: 0.0172 - acc: 0.9941\n",
            "Epoch 26/30\n",
            "4409/4409 [==============================] - 6s 1ms/step - loss: 0.0172 - acc: 0.9941\n",
            "Epoch 27/30\n",
            "4409/4409 [==============================] - 5s 1ms/step - loss: 0.0171 - acc: 0.9946\n",
            "Epoch 28/30\n",
            "4409/4409 [==============================] - 5s 1ms/step - loss: 0.0172 - acc: 0.9943\n",
            "Epoch 29/30\n",
            "4409/4409 [==============================] - 5s 1ms/step - loss: 0.0171 - acc: 0.9943\n",
            "Epoch 30/30\n",
            "4409/4409 [==============================] - 5s 1ms/step - loss: 0.0171 - acc: 0.9943\n",
            "_________________________________________________________________\n",
            "Layer (type)                 Output Shape              Param #   \n",
            "=================================================================\n",
            "dense_60 (Dense)             (None, 16)                975728    \n",
            "_________________________________________________________________\n",
            "dense_61 (Dense)             (None, 16)                272       \n",
            "_________________________________________________________________\n",
            "dense_62 (Dense)             (None, 1)                 17        \n",
            "=================================================================\n",
            "Total params: 976,017\n",
            "Trainable params: 976,017\n",
            "Non-trainable params: 0\n",
            "_________________________________________________________________\n",
            "1890/1890 [==============================] - 1s 771us/step\n",
            "Epoch 1/30\n",
            "4409/4409 [==============================] - 10s 2ms/step - loss: 0.4128 - acc: 0.8521\n",
            "Epoch 2/30\n",
            "4409/4409 [==============================] - 9s 2ms/step - loss: 0.1083 - acc: 0.9682A: 0s - loss: 0.1100 - ac\n",
            "Epoch 3/30\n",
            "4409/4409 [==============================] - 8s 2ms/step - loss: 0.0653 - acc: 0.9837\n",
            "Epoch 4/30\n",
            "4409/4409 [==============================] - 8s 2ms/step - loss: 0.0456 - acc: 0.9887\n",
            "Epoch 5/30\n",
            "4409/4409 [==============================] - 8s 2ms/step - loss: 0.0376 - acc: 0.9909\n",
            "Epoch 6/30\n",
            "4409/4409 [==============================] - 8s 2ms/step - loss: 0.0330 - acc: 0.9916\n",
            "Epoch 7/30\n"
          ],
          "name": "stdout"
        },
        {
          "output_type": "stream",
          "text": [
            "4409/4409 [==============================] - 8s 2ms/step - loss: 0.0303 - acc: 0.9930A: 1\n",
            "Epoch 8/30\n",
            "4409/4409 [==============================] - 8s 2ms/step - loss: 0.0286 - acc: 0.9934\n",
            "Epoch 9/30\n",
            "4409/4409 [==============================] - 8s 2ms/step - loss: 0.0275 - acc: 0.9936\n",
            "Epoch 10/30\n",
            "4409/4409 [==============================] - 8s 2ms/step - loss: 0.0268 - acc: 0.9939\n",
            "Epoch 11/30\n",
            "4409/4409 [==============================] - 8s 2ms/step - loss: 0.0260 - acc: 0.9936\n",
            "Epoch 12/30\n",
            "4409/4409 [==============================] - 8s 2ms/step - loss: 0.0256 - acc: 0.9939\n",
            "Epoch 13/30\n",
            "4409/4409 [==============================] - 8s 2ms/step - loss: 0.0256 - acc: 0.9934\n",
            "Epoch 14/30\n",
            "4409/4409 [==============================] - 8s 2ms/step - loss: 0.0253 - acc: 0.9936\n",
            "Epoch 15/30\n",
            "4409/4409 [==============================] - 8s 2ms/step - loss: 0.0251 - acc: 0.9936\n",
            "Epoch 16/30\n",
            "4409/4409 [==============================] - 9s 2ms/step - loss: 0.0250 - acc: 0.9939\n",
            "Epoch 17/30\n",
            "4409/4409 [==============================] - 8s 2ms/step - loss: 0.0248 - acc: 0.9939\n",
            "Epoch 18/30\n",
            "4409/4409 [==============================] - 8s 2ms/step - loss: 0.0252 - acc: 0.9936\n",
            "Epoch 19/30\n",
            "4409/4409 [==============================] - 8s 2ms/step - loss: 0.0246 - acc: 0.9939\n",
            "Epoch 20/30\n",
            "4409/4409 [==============================] - 8s 2ms/step - loss: 0.0246 - acc: 0.9939\n",
            "Epoch 21/30\n",
            "4409/4409 [==============================] - 8s 2ms/step - loss: 0.0245 - acc: 0.9939\n",
            "Epoch 22/30\n",
            "4409/4409 [==============================] - 8s 2ms/step - loss: 0.0247 - acc: 0.9936\n",
            "Epoch 23/30\n",
            "4409/4409 [==============================] - 8s 2ms/step - loss: 0.0245 - acc: 0.9939\n",
            "Epoch 24/30\n",
            "4409/4409 [==============================] - 8s 2ms/step - loss: 0.0247 - acc: 0.9943\n",
            "Epoch 25/30\n",
            "4409/4409 [==============================] - 8s 2ms/step - loss: 0.0244 - acc: 0.9939\n",
            "Epoch 26/30\n",
            "4409/4409 [==============================] - 8s 2ms/step - loss: 0.0247 - acc: 0.9941\n",
            "Epoch 27/30\n",
            "4409/4409 [==============================] - 8s 2ms/step - loss: 0.0245 - acc: 0.9939\n",
            "Epoch 28/30\n",
            "4409/4409 [==============================] - 8s 2ms/step - loss: 0.0245 - acc: 0.9939\n",
            "Epoch 29/30\n",
            "4409/4409 [==============================] - 9s 2ms/step - loss: 0.0246 - acc: 0.9941\n",
            "Epoch 30/30\n",
            "4409/4409 [==============================] - 8s 2ms/step - loss: 0.0245 - acc: 0.9939\n",
            "_________________________________________________________________\n",
            "Layer (type)                 Output Shape              Param #   \n",
            "=================================================================\n",
            "dense_63 (Dense)             (None, 32)                1951456   \n",
            "_________________________________________________________________\n",
            "dense_64 (Dense)             (None, 32)                1056      \n",
            "_________________________________________________________________\n",
            "dense_65 (Dense)             (None, 1)                 33        \n",
            "=================================================================\n",
            "Total params: 1,952,545\n",
            "Trainable params: 1,952,545\n",
            "Non-trainable params: 0\n",
            "_________________________________________________________________\n",
            "1890/1890 [==============================] - 2s 864us/step\n",
            "Epoch 1/30\n",
            "4409/4409 [==============================] - 15s 3ms/step - loss: 0.3689 - acc: 0.8576\n",
            "Epoch 2/30\n",
            "4409/4409 [==============================] - 13s 3ms/step - loss: 0.0940 - acc: 0.9721\n",
            "Epoch 3/30\n",
            "4409/4409 [==============================] - 14s 3ms/step - loss: 0.0510 - acc: 0.9882\n",
            "Epoch 4/30\n",
            "4409/4409 [==============================] - 14s 3ms/step - loss: 0.0369 - acc: 0.9914\n",
            "Epoch 5/30\n",
            "4409/4409 [==============================] - 13s 3ms/step - loss: 0.0325 - acc: 0.9927\n",
            "Epoch 6/30\n",
            "4409/4409 [==============================] - 13s 3ms/step - loss: 0.0306 - acc: 0.9936\n",
            "Epoch 7/30\n",
            "4409/4409 [==============================] - 13s 3ms/step - loss: 0.0304 - acc: 0.9930\n",
            "Epoch 8/30\n",
            "4409/4409 [==============================] - 13s 3ms/step - loss: 0.0295 - acc: 0.9936\n",
            "Epoch 9/30\n",
            "4409/4409 [==============================] - 13s 3ms/step - loss: 0.0297 - acc: 0.9934\n",
            "Epoch 10/30\n",
            "4409/4409 [==============================] - 13s 3ms/step - loss: 0.0290 - acc: 0.9934\n",
            "Epoch 11/30\n",
            "4409/4409 [==============================] - 13s 3ms/step - loss: 0.0290 - acc: 0.9936\n",
            "Epoch 12/30\n",
            "4409/4409 [==============================] - 13s 3ms/step - loss: 0.0284 - acc: 0.9939\n",
            "Epoch 13/30\n",
            "4409/4409 [==============================] - 13s 3ms/step - loss: 0.0284 - acc: 0.9939\n",
            "Epoch 14/30\n",
            "4409/4409 [==============================] - 13s 3ms/step - loss: 0.0286 - acc: 0.9939\n",
            "Epoch 15/30\n",
            "4409/4409 [==============================] - 13s 3ms/step - loss: 0.0290 - acc: 0.9934\n",
            "Epoch 16/30\n",
            "4409/4409 [==============================] - 13s 3ms/step - loss: 0.0285 - acc: 0.9936\n",
            "Epoch 17/30\n",
            "4409/4409 [==============================] - 13s 3ms/step - loss: 0.0289 - acc: 0.9934\n",
            "Epoch 18/30\n",
            "4409/4409 [==============================] - 14s 3ms/step - loss: 0.0288 - acc: 0.9936\n",
            "Epoch 19/30\n",
            "4409/4409 [==============================] - 14s 3ms/step - loss: 0.0294 - acc: 0.9934\n",
            "Epoch 20/30\n",
            "4409/4409 [==============================] - 15s 3ms/step - loss: 0.0285 - acc: 0.9934\n",
            "Epoch 21/30\n",
            "4409/4409 [==============================] - 15s 3ms/step - loss: 0.0288 - acc: 0.9936\n",
            "Epoch 22/30\n",
            "4409/4409 [==============================] - 13s 3ms/step - loss: 0.0284 - acc: 0.9936\n",
            "Epoch 23/30\n",
            "4409/4409 [==============================] - 13s 3ms/step - loss: 0.0285 - acc: 0.9934\n",
            "Epoch 24/30\n",
            "4409/4409 [==============================] - 13s 3ms/step - loss: 0.0284 - acc: 0.9934\n",
            "Epoch 25/30\n",
            "4409/4409 [==============================] - 13s 3ms/step - loss: 0.0285 - acc: 0.9936\n",
            "Epoch 26/30\n",
            "4409/4409 [==============================] - 13s 3ms/step - loss: 0.0288 - acc: 0.9932\n",
            "Epoch 27/30\n",
            "4409/4409 [==============================] - 13s 3ms/step - loss: 0.0283 - acc: 0.9939\n",
            "Epoch 28/30\n",
            "4409/4409 [==============================] - 13s 3ms/step - loss: 0.0286 - acc: 0.9934\n",
            "Epoch 29/30\n",
            "4409/4409 [==============================] - 13s 3ms/step - loss: 0.0282 - acc: 0.9932\n",
            "Epoch 30/30\n",
            "4409/4409 [==============================] - 13s 3ms/step - loss: 0.0286 - acc: 0.9939\n",
            "_________________________________________________________________\n",
            "Layer (type)                 Output Shape              Param #   \n",
            "=================================================================\n",
            "dense_66 (Dense)             (None, 64)                3902912   \n",
            "_________________________________________________________________\n",
            "dense_67 (Dense)             (None, 64)                4160      \n",
            "_________________________________________________________________\n",
            "dense_68 (Dense)             (None, 1)                 65        \n",
            "=================================================================\n",
            "Total params: 3,907,137\n",
            "Trainable params: 3,907,137\n",
            "Non-trainable params: 0\n",
            "_________________________________________________________________\n",
            "1890/1890 [==============================] - 2s 1ms/step\n"
          ],
          "name": "stdout"
        }
      ]
    },
    {
      "metadata": {
        "colab_type": "code",
        "id": "bxPnBzABgXKV",
        "outputId": "40caf45b-28ed-465f-8b3d-76344f9a5bda",
        "colab": {
          "base_uri": "https://localhost:8080/",
          "height": 230
        }
      },
      "cell_type": "code",
      "source": [
        "resultado_neuronas"
      ],
      "execution_count": 0,
      "outputs": [
        {
          "output_type": "execute_result",
          "data": {
            "text/plain": [
              "[[None, array([[1295,   25],\n",
              "         [  69,  501]], dtype=int64), [0.22836786856220065,\n",
              "   0.9502645502645503]],\n",
              " [None, array([[1292,   28],\n",
              "         [  62,  508]], dtype=int64), [0.25020826956652664,\n",
              "   0.9523809523809523]],\n",
              " [None, array([[1293,   27],\n",
              "         [  65,  505]], dtype=int64), [0.24309387730900198,\n",
              "   0.9513227513227513]],\n",
              " [None, array([[1289,   31],\n",
              "         [  67,  503]], dtype=int64), [0.2569881357933535,\n",
              "   0.9481481481481482]]]"
            ]
          },
          "metadata": {
            "tags": []
          },
          "execution_count": 27
        }
      ]
    },
    {
      "metadata": {
        "colab_type": "code",
        "id": "XP8RiFR6YCit",
        "colab": {}
      },
      "cell_type": "code",
      "source": [
        "def regresor_base(optimizer,activation):\n",
        "    modelo = Sequential()\n",
        "    modelo.add(Dense(units = 8, kernel_initializer = 'uniform', activation = activation, input_dim = 60982))\n",
        "    modelo.add(Dropout(p = 0.1))\n",
        "    modelo.add(Dense(units = 8, kernel_initializer = 'uniform', activation = activation))\n",
        "    modelo.add(Dropout(p = 0.1))\n",
        "    modelo.add(Dense(units = 1, kernel_initializer = 'uniform', activation = 'sigmoid'))\n",
        "    modelo.compile(optimizer = optimizer, loss = 'binary_crossentropy' ,metrics = ['accuracy'])\n",
        "    return  modelo\n",
        "\n",
        "regresor = KerasClassifier(build_fn = regresor_base)\n",
        "parameters = {'batch_size': [5,10,20,50],\n",
        "              'epochs': [20,40,60,100],\n",
        "              'optimizer': ['adam'],\n",
        "              'activation':['sigmoid','relu']              \n",
        "             }\n",
        "\n",
        "## C.V\n",
        "grid_search = GridSearchCV(estimator = regresor,\n",
        "                           param_grid = parameters,\n",
        "                           cv=2\n",
        "                           )\n",
        "grid_search = grid_search.fit(X_train, y_train)"
      ],
      "execution_count": 0,
      "outputs": []
    },
    {
      "metadata": {
        "colab_type": "code",
        "id": "4GXspW9v0ohj",
        "colab": {}
      },
      "cell_type": "code",
      "source": [
        ""
      ],
      "execution_count": 0,
      "outputs": []
    },
    {
      "metadata": {
        "id": "hMeiCEZh-8Nj",
        "colab_type": "text"
      },
      "cell_type": "markdown",
      "source": [
        "**precisión del C.V de 91%**"
      ]
    },
    {
      "metadata": {
        "colab_type": "code",
        "id": "YYPypgTnce5M",
        "outputId": "4d82642e-4c16-4b52-a45c-24d6ed6a9801",
        "colab": {
          "base_uri": "https://localhost:8080/",
          "height": 230
        }
      },
      "cell_type": "code",
      "source": [
        "resultado_neuronas"
      ],
      "execution_count": 0,
      "outputs": [
        {
          "output_type": "execute_result",
          "data": {
            "text/plain": [
              "[[None, array([[1295,   25],\n",
              "         [  69,  501]], dtype=int64), [0.22836786856220065,\n",
              "   0.9502645502645503]],\n",
              " [None, array([[1292,   28],\n",
              "         [  62,  508]], dtype=int64), [0.25020826956652664,\n",
              "   0.9523809523809523]],\n",
              " [None, array([[1293,   27],\n",
              "         [  65,  505]], dtype=int64), [0.24309387730900198,\n",
              "   0.9513227513227513]],\n",
              " [None, array([[1289,   31],\n",
              "         [  67,  503]], dtype=int64), [0.2569881357933535,\n",
              "   0.9481481481481482]]]"
            ]
          },
          "metadata": {
            "tags": []
          },
          "execution_count": 54
        }
      ]
    },
    {
      "metadata": {
        "colab_type": "code",
        "id": "kJagQFYDccT8",
        "outputId": "f1c1759a-6f3e-46a6-e91d-4491762723c6",
        "colab": {
          "base_uri": "https://localhost:8080/",
          "height": 34
        }
      },
      "cell_type": "code",
      "source": [
        "neurons"
      ],
      "execution_count": 0,
      "outputs": [
        {
          "output_type": "execute_result",
          "data": {
            "text/plain": [
              "[8, 16, 32, 64]"
            ]
          },
          "metadata": {
            "tags": []
          },
          "execution_count": 55
        }
      ]
    },
    {
      "metadata": {
        "colab_type": "code",
        "id": "4RTG7_WMgByI",
        "outputId": "b5c5f02a-45f5-456e-f41a-cd48a6dd33b8",
        "colab": {
          "base_uri": "https://localhost:8080/",
          "height": 346
        }
      },
      "cell_type": "code",
      "source": [
        "loss = [i[-1][0] for i in resultado_neuronas]\n",
        "precission = [i[-1][1] for i in resultado_neuronas]\n",
        "plt.plot(neurons, loss , '.-')\n",
        "plt.grid()"
      ],
      "execution_count": 0,
      "outputs": [
        {
          "output_type": "display_data",
          "data": {
            "image/png": "[encoded data removed]",
            "text/plain": [
              "<Figure size 432x288 with 1 Axes>"
            ]
          },
          "metadata": {
            "tags": [],
            "needs_background": "light"
          }
        }
      ]
    },
    {
      "metadata": {
        "colab_type": "code",
        "id": "HDs5tFLgZyEA",
        "outputId": "fbbd8ce8-19f3-4e48-ff8f-1eaa1351f3ba",
        "colab": {
          "base_uri": "https://localhost:8080/",
          "height": 364
        }
      },
      "cell_type": "code",
      "source": [
        "plt.plot(neurons, precission , '.-')"
      ],
      "execution_count": 0,
      "outputs": [
        {
          "output_type": "execute_result",
          "data": {
            "text/plain": [
              "[<matplotlib.lines.Line2D at 0x22707cd44e0>]"
            ]
          },
          "metadata": {
            "tags": []
          },
          "execution_count": 58
        },
        {
          "output_type": "display_data",
          "data": {
            "image/png": "[encoded data removed]",
            "text/plain": [
              "<Figure size 432x288 with 1 Axes>"
            ]
          },
          "metadata": {
            "tags": [],
            "needs_background": "light"
          }
        }
      ]
    },
    {
      "metadata": {
        "id": "g9RYBHDO_d5n",
        "colab_type": "text"
      },
      "cell_type": "markdown",
      "source": [
        "**Modelo final con hyper parametros ajustados**"
      ]
    },
    {
      "metadata": {
        "id": "Jq7Z7_dX_P05",
        "colab_type": "text"
      },
      "cell_type": "markdown",
      "source": [
        "**PRECISIÓN MÁS ALTA ES EN 16 Y MÁS BAJA EN 8**"
      ]
    },
    {
      "metadata": {
        "colab_type": "code",
        "id": "yfge7XEYX87N",
        "outputId": "7dac4532-60f1-4f3d-9b75-b4362879261a",
        "colab": {
          "base_uri": "https://localhost:8080/",
          "height": 5350
        }
      },
      "cell_type": "code",
      "source": [
        "classifier = Sequential()\n",
        "classifier.add(Dense(units = 16, kernel_initializer = 'uniform', activation = 'sigmoid', input_dim = 60982))\n",
        "classifier.add(Dense(units = 16, kernel_initializer = 'uniform', activation = 'sigmoid'))\n",
        "classifier.add(Dense(units = 1, kernel_initializer = 'uniform', activation = 'sigmoid'))\n",
        "classifier.compile(optimizer = 'adam', loss = 'binary_crossentropy', metrics = ['accuracy'])\n",
        "es = EarlyStopping(monitor='loss', min_delta=1e-10, patience=5, verbose=1)\n",
        "rlr = ReduceLROnPlateau(monitor='loss', factor=0.5, patience=5, verbose=1)\n",
        "classifier.fit(X_train, y_train, batch_size = 5, epochs = 100,callbacks=[es, rlr])\n",
        "y_pred = classifier.predict(X_test)\n",
        "y_pred = (y_pred > 0.5)"
      ],
      "execution_count": 0,
      "outputs": [
        {
          "output_type": "stream",
          "text": [
            "Epoch 1/100\n",
            "4409/4409 [==============================] - 34s 8ms/step - loss: 0.4206 - acc: 0.7988\n",
            "Epoch 2/100\n",
            "4409/4409 [==============================] - 33s 7ms/step - loss: 0.1173 - acc: 0.9658\n",
            "Epoch 3/100\n",
            "4409/4409 [==============================] - 33s 8ms/step - loss: 0.0592 - acc: 0.9823\n",
            "Epoch 4/100\n",
            "4409/4409 [==============================] - 33s 7ms/step - loss: 0.0381 - acc: 0.9882\n",
            "Epoch 5/100\n",
            "4409/4409 [==============================] - 33s 8ms/step - loss: 0.0288 - acc: 0.9907\n",
            "Epoch 6/100\n",
            "4409/4409 [==============================] - 32s 7ms/step - loss: 0.0245 - acc: 0.9921\n",
            "Epoch 7/100\n",
            "4409/4409 [==============================] - 35s 8ms/step - loss: 0.0217 - acc: 0.9916\n",
            "Epoch 8/100\n",
            "4409/4409 [==============================] - 34s 8ms/step - loss: 0.0204 - acc: 0.9934\n",
            "Epoch 9/100\n",
            "4409/4409 [==============================] - 33s 8ms/step - loss: 0.0192 - acc: 0.9939\n",
            "Epoch 10/100\n",
            "4409/4409 [==============================] - 33s 7ms/step - loss: 0.0184 - acc: 0.9936\n",
            "Epoch 11/100\n",
            "4409/4409 [==============================] - 34s 8ms/step - loss: 0.0178 - acc: 0.9936\n",
            "Epoch 12/100\n",
            "4409/4409 [==============================] - 34s 8ms/step - loss: 0.0174 - acc: 0.9943\n",
            "Epoch 13/100\n",
            "4409/4409 [==============================] - 34s 8ms/step - loss: 0.0172 - acc: 0.9943\n",
            "Epoch 14/100\n",
            "4409/4409 [==============================] - 33s 8ms/step - loss: 0.0172 - acc: 0.9946\n",
            "Epoch 15/100\n",
            "4409/4409 [==============================] - 33s 8ms/step - loss: 0.0170 - acc: 0.9948\n",
            "Epoch 16/100\n",
            "4409/4409 [==============================] - 34s 8ms/step - loss: 0.0161 - acc: 0.9943\n",
            "Epoch 17/100\n",
            "4409/4409 [==============================] - 34s 8ms/step - loss: 0.0160 - acc: 0.9946\n",
            "Epoch 18/100\n",
            "4409/4409 [==============================] - 34s 8ms/step - loss: 0.0163 - acc: 0.9941\n",
            "Epoch 19/100\n",
            "4409/4409 [==============================] - 33s 7ms/step - loss: 0.0159 - acc: 0.9943\n",
            "Epoch 20/100\n",
            "4409/4409 [==============================] - 33s 8ms/step - loss: 0.0164 - acc: 0.9941\n",
            "Epoch 21/100\n",
            "4409/4409 [==============================] - 34s 8ms/step - loss: 0.0162 - acc: 0.9946\n",
            "Epoch 22/100\n",
            "4409/4409 [==============================] - 32s 7ms/step - loss: 0.0161 - acc: 0.9943\n",
            "Epoch 23/100\n",
            "4409/4409 [==============================] - 32s 7ms/step - loss: 0.0156 - acc: 0.9946\n",
            "Epoch 24/100\n",
            "4409/4409 [==============================] - 33s 7ms/step - loss: 0.0161 - acc: 0.9941\n",
            "Epoch 25/100\n",
            "4409/4409 [==============================] - 34s 8ms/step - loss: 0.0157 - acc: 0.9948\n",
            "Epoch 26/100\n",
            "4409/4409 [==============================] - 33s 8ms/step - loss: 0.0160 - acc: 0.9943\n",
            "Epoch 27/100\n",
            "4409/4409 [==============================] - 33s 8ms/step - loss: 0.0163 - acc: 0.9943\n",
            "Epoch 28/100\n",
            "4409/4409 [==============================] - 33s 8ms/step - loss: 0.0161 - acc: 0.9943\n",
            "\n",
            "Epoch 00028: ReduceLROnPlateau reducing learning rate to 0.0005000000237487257.\n",
            "Epoch 00028: early stopping\n"
          ],
          "name": "stdout"
        }
      ]
    },
    {
      "metadata": {
        "colab_type": "code",
        "id": "uS9VdFe578_I",
        "outputId": "c765ff0a-a4f1-4b50-8f7b-e8b3a4b0cb6a",
        "colab": {
          "base_uri": "https://localhost:8080/",
          "height": 52
        }
      },
      "cell_type": "code",
      "source": [
        "cm = confusion_matrix(y_test, y_pred)\n",
        "classifier.evaluate(X_test, y_test)"
      ],
      "execution_count": 0,
      "outputs": [
        {
          "output_type": "stream",
          "text": [
            "1890/1890 [==============================] - 2s 1ms/step\n"
          ],
          "name": "stdout"
        },
        {
          "output_type": "execute_result",
          "data": {
            "text/plain": [
              "[0.21218291513890364, 0.9476190476190476]"
            ]
          },
          "metadata": {
            "tags": []
          },
          "execution_count": 37
        }
      ]
    },
    {
      "metadata": {
        "colab_type": "code",
        "id": "ZgT-1xiRXv9N",
        "colab": {}
      },
      "cell_type": "code",
      "source": [
        "# RESULTADO DE LA REGRESION\n",
        "\n",
        "    array([[1297,   23],\n",
        "           [  80,  490]]"
      ],
      "execution_count": 0,
      "outputs": []
    }
  ]
}