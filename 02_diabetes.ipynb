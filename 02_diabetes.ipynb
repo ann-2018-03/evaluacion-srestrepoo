{
  "nbformat": 4,
  "nbformat_minor": 0,
  "metadata": {
    "colab": {
      "name": "02-diabetes.ipynb",
      "version": "0.3.2",
      "provenance": [],
      "collapsed_sections": []
    },
    "language_info": {
      "codemirror_mode": {
        "name": "ipython",
        "version": 3
      },
      "file_extension": ".py",
      "mimetype": "text/x-python",
      "name": "python",
      "nbconvert_exporter": "python",
      "pygments_lexer": "ipython3",
      "version": "3.6.7"
    },
    "kernelspec": {
      "display_name": "Python 3",
      "language": "python",
      "name": "python3"
    }
  },
  "cells": [
    {
      "metadata": {
        "id": "3dRMP5hGYyzi",
        "colab_type": "code",
        "colab": {}
      },
      "cell_type": "code",
      "source": [
        "import matplotlib.pyplot as plt\n",
        "import numpy as np\n",
        "import pandas as pd\n",
        "import seaborn as sns\n",
        "import statsmodels.api as sm\n",
        "import tensorflow as tf \n",
        "from sklearn.model_selection import train_test_split\n",
        "from sklearn.ensemble import ExtraTreesClassifier\n",
        "from sklearn.feature_selection import SelectFromModel\n",
        "from sklearn.linear_model import LinearRegression\n",
        "from sklearn import metrics\n",
        "from sklearn.metrics import mean_squared_error\n",
        "from sklearn.model_selection import KFold\n",
        "\n"
      ],
      "execution_count": 0,
      "outputs": []
    },
    {
      "metadata": {
        "id": "ksv3ojcxYy0Y",
        "colab_type": "text"
      },
      "cell_type": "markdown",
      "source": [
        "### Read File"
      ]
    },
    {
      "metadata": {
        "id": "01Tpv9hUYy0j",
        "colab_type": "code",
        "outputId": "7e6ececa-45ca-4f63-84b0-5df26e5ac7c9",
        "colab": {}
      },
      "cell_type": "code",
      "source": [
        "diabetes_set = pd.read_csv(\"datos/diabetes.csv\")"
      ],
      "execution_count": 0,
      "outputs": [
        {
          "output_type": "execute_result",
          "data": {
            "text/html": [
              "<div>\n",
              "<style scoped>\n",
              "    .dataframe tbody tr th:only-of-type {\n",
              "        vertical-align: middle;\n",
              "    }\n",
              "\n",
              "    .dataframe tbody tr th {\n",
              "        vertical-align: top;\n",
              "    }\n",
              "\n",
              "    .dataframe thead th {\n",
              "        text-align: right;\n",
              "    }\n",
              "</style>\n",
              "<table border=\"1\" class=\"dataframe\">\n",
              "  <thead>\n",
              "    <tr style=\"text-align: right;\">\n",
              "      <th></th>\n",
              "      <th>age</th>\n",
              "      <th>sex</th>\n",
              "      <th>bmi</th>\n",
              "      <th>bp</th>\n",
              "      <th>s1</th>\n",
              "      <th>s2</th>\n",
              "      <th>s3</th>\n",
              "      <th>s4</th>\n",
              "      <th>s5</th>\n",
              "      <th>s6</th>\n",
              "      <th>Y</th>\n",
              "    </tr>\n",
              "  </thead>\n",
              "  <tbody>\n",
              "    <tr>\n",
              "      <th>0</th>\n",
              "      <td>0.038076</td>\n",
              "      <td>0.050680</td>\n",
              "      <td>0.061696</td>\n",
              "      <td>0.021872</td>\n",
              "      <td>-0.044223</td>\n",
              "      <td>-0.034821</td>\n",
              "      <td>-0.043401</td>\n",
              "      <td>-0.002592</td>\n",
              "      <td>0.019908</td>\n",
              "      <td>-0.017646</td>\n",
              "      <td>151.0</td>\n",
              "    </tr>\n",
              "    <tr>\n",
              "      <th>1</th>\n",
              "      <td>-0.001882</td>\n",
              "      <td>-0.044642</td>\n",
              "      <td>-0.051474</td>\n",
              "      <td>-0.026328</td>\n",
              "      <td>-0.008449</td>\n",
              "      <td>-0.019163</td>\n",
              "      <td>0.074412</td>\n",
              "      <td>-0.039493</td>\n",
              "      <td>-0.068330</td>\n",
              "      <td>-0.092204</td>\n",
              "      <td>75.0</td>\n",
              "    </tr>\n",
              "    <tr>\n",
              "      <th>2</th>\n",
              "      <td>0.085299</td>\n",
              "      <td>0.050680</td>\n",
              "      <td>0.044451</td>\n",
              "      <td>-0.005671</td>\n",
              "      <td>-0.045599</td>\n",
              "      <td>-0.034194</td>\n",
              "      <td>-0.032356</td>\n",
              "      <td>-0.002592</td>\n",
              "      <td>0.002864</td>\n",
              "      <td>-0.025930</td>\n",
              "      <td>141.0</td>\n",
              "    </tr>\n",
              "    <tr>\n",
              "      <th>3</th>\n",
              "      <td>-0.089063</td>\n",
              "      <td>-0.044642</td>\n",
              "      <td>-0.011595</td>\n",
              "      <td>-0.036656</td>\n",
              "      <td>0.012191</td>\n",
              "      <td>0.024991</td>\n",
              "      <td>-0.036038</td>\n",
              "      <td>0.034309</td>\n",
              "      <td>0.022692</td>\n",
              "      <td>-0.009362</td>\n",
              "      <td>206.0</td>\n",
              "    </tr>\n",
              "    <tr>\n",
              "      <th>4</th>\n",
              "      <td>0.005383</td>\n",
              "      <td>-0.044642</td>\n",
              "      <td>-0.036385</td>\n",
              "      <td>0.021872</td>\n",
              "      <td>0.003935</td>\n",
              "      <td>0.015596</td>\n",
              "      <td>0.008142</td>\n",
              "      <td>-0.002592</td>\n",
              "      <td>-0.031991</td>\n",
              "      <td>-0.046641</td>\n",
              "      <td>135.0</td>\n",
              "    </tr>\n",
              "  </tbody>\n",
              "</table>\n",
              "</div>"
            ],
            "text/plain": [
              "        age       sex       bmi        bp        s1        s2        s3  \\\n",
              "0  0.038076  0.050680  0.061696  0.021872 -0.044223 -0.034821 -0.043401   \n",
              "1 -0.001882 -0.044642 -0.051474 -0.026328 -0.008449 -0.019163  0.074412   \n",
              "2  0.085299  0.050680  0.044451 -0.005671 -0.045599 -0.034194 -0.032356   \n",
              "3 -0.089063 -0.044642 -0.011595 -0.036656  0.012191  0.024991 -0.036038   \n",
              "4  0.005383 -0.044642 -0.036385  0.021872  0.003935  0.015596  0.008142   \n",
              "\n",
              "         s4        s5        s6      Y  \n",
              "0 -0.002592  0.019908 -0.017646  151.0  \n",
              "1 -0.039493 -0.068330 -0.092204   75.0  \n",
              "2 -0.002592  0.002864 -0.025930  141.0  \n",
              "3  0.034309  0.022692 -0.009362  206.0  \n",
              "4 -0.002592 -0.031991 -0.046641  135.0  "
            ]
          },
          "metadata": {
            "tags": []
          },
          "execution_count": 61
        }
      ]
    },
    {
      "metadata": {
        "id": "Koy3dJ09Yy1G",
        "colab_type": "text"
      },
      "cell_type": "markdown",
      "source": [
        "### Feature"
      ]
    },
    {
      "metadata": {
        "id": "MSlvIPv3Yy1O",
        "colab_type": "code",
        "colab": {}
      },
      "cell_type": "code",
      "source": [
        "X = diabetes_set.drop([\"Y\"],axis = 1)\n",
        "y = diabetes_set[\"Y\"]"
      ],
      "execution_count": 0,
      "outputs": []
    },
    {
      "metadata": {
        "id": "A0iVnGFJYy1k",
        "colab_type": "text"
      },
      "cell_type": "markdown",
      "source": [
        "### Select From Model "
      ]
    },
    {
      "metadata": {
        "scrolled": true,
        "id": "8P5MSNJ6Yy1p",
        "colab_type": "code",
        "colab": {}
      },
      "cell_type": "code",
      "source": [
        "predictor = ExtraTreesClassifier()\n",
        "predictor.fit(X, y)\n",
        "model = SelectFromModel(predictor, threshold=0.11, prefit=True)\n",
        "X_new = model.transform(X) \n",
        "selection = model.get_support()\n",
        "num_selected_features = np.count_nonzero(selection)\n",
        "\n",
        "print(selection,\"\\n\")\n",
        "print(\"Numero de características seleccionadas: \",num_selected_features)"
      ],
      "execution_count": 0,
      "outputs": []
    },
    {
      "metadata": {
        "id": "JzUC9wWPYy2N",
        "colab_type": "text"
      },
      "cell_type": "markdown",
      "source": [
        "### Variables significativas respecto estadistico T"
      ]
    },
    {
      "metadata": {
        "id": "lKMTSXR7Yy2T",
        "colab_type": "code",
        "outputId": "b645d775-10db-42f6-d43b-247207f4de76",
        "colab": {}
      },
      "cell_type": "code",
      "source": [
        "x_sm = sm.add_constant(diabetes_set.drop(\"Y\",axis=1))\n",
        "model = sm.OLS(diabetes_set[\"Y\"], x_sm)\n",
        "results = model.fit()\n",
        "pd.DataFrame(results.tvalues)"
      ],
      "execution_count": 0,
      "outputs": [
        {
          "output_type": "execute_result",
          "data": {
            "text/html": [
              "<div>\n",
              "<style scoped>\n",
              "    .dataframe tbody tr th:only-of-type {\n",
              "        vertical-align: middle;\n",
              "    }\n",
              "\n",
              "    .dataframe tbody tr th {\n",
              "        vertical-align: top;\n",
              "    }\n",
              "\n",
              "    .dataframe thead th {\n",
              "        text-align: right;\n",
              "    }\n",
              "</style>\n",
              "<table border=\"1\" class=\"dataframe\">\n",
              "  <thead>\n",
              "    <tr style=\"text-align: right;\">\n",
              "      <th></th>\n",
              "      <th>0</th>\n",
              "    </tr>\n",
              "  </thead>\n",
              "  <tbody>\n",
              "    <tr>\n",
              "      <th>const</th>\n",
              "      <td>59.061427</td>\n",
              "    </tr>\n",
              "    <tr>\n",
              "      <th>age</th>\n",
              "      <td>-0.167570</td>\n",
              "    </tr>\n",
              "    <tr>\n",
              "      <th>sex</th>\n",
              "      <td>-3.917184</td>\n",
              "    </tr>\n",
              "    <tr>\n",
              "      <th>bmi</th>\n",
              "      <td>7.813196</td>\n",
              "    </tr>\n",
              "    <tr>\n",
              "      <th>bp</th>\n",
              "      <td>4.958435</td>\n",
              "    </tr>\n",
              "    <tr>\n",
              "      <th>s1</th>\n",
              "      <td>-1.901163</td>\n",
              "    </tr>\n",
              "    <tr>\n",
              "      <th>s2</th>\n",
              "      <td>1.406187</td>\n",
              "    </tr>\n",
              "    <tr>\n",
              "      <th>s3</th>\n",
              "      <td>0.475431</td>\n",
              "    </tr>\n",
              "    <tr>\n",
              "      <th>s4</th>\n",
              "      <td>1.096538</td>\n",
              "    </tr>\n",
              "    <tr>\n",
              "      <th>s5</th>\n",
              "      <td>4.370394</td>\n",
              "    </tr>\n",
              "    <tr>\n",
              "      <th>s6</th>\n",
              "      <td>1.024872</td>\n",
              "    </tr>\n",
              "  </tbody>\n",
              "</table>\n",
              "</div>"
            ],
            "text/plain": [
              "               0\n",
              "const  59.061427\n",
              "age    -0.167570\n",
              "sex    -3.917184\n",
              "bmi     7.813196\n",
              "bp      4.958435\n",
              "s1     -1.901163\n",
              "s2      1.406187\n",
              "s3      0.475431\n",
              "s4      1.096538\n",
              "s5      4.370394\n",
              "s6      1.024872"
            ]
          },
          "metadata": {
            "tags": []
          },
          "execution_count": 71
        }
      ]
    },
    {
      "metadata": {
        "id": "9AM3x67tYy2j",
        "colab_type": "code",
        "outputId": "65bc32ea-8f61-499b-ef64-bc7bf7d8b6db",
        "colab": {}
      },
      "cell_type": "code",
      "source": [
        "x_sm = sm.add_constant(diabetes_set.drop([\"Y\",\"age\"],axis=1))\n",
        "model = sm.OLS(diabetes_set[\"Y\"], x_sm)\n",
        "results = model.fit()\n",
        "pd.DataFrame(results.tvalues)"
      ],
      "execution_count": 0,
      "outputs": [
        {
          "output_type": "execute_result",
          "data": {
            "text/html": [
              "<div>\n",
              "<style scoped>\n",
              "    .dataframe tbody tr th:only-of-type {\n",
              "        vertical-align: middle;\n",
              "    }\n",
              "\n",
              "    .dataframe tbody tr th {\n",
              "        vertical-align: top;\n",
              "    }\n",
              "\n",
              "    .dataframe thead th {\n",
              "        text-align: right;\n",
              "    }\n",
              "</style>\n",
              "<table border=\"1\" class=\"dataframe\">\n",
              "  <thead>\n",
              "    <tr style=\"text-align: right;\">\n",
              "      <th></th>\n",
              "      <th>0</th>\n",
              "    </tr>\n",
              "  </thead>\n",
              "  <tbody>\n",
              "    <tr>\n",
              "      <th>const</th>\n",
              "      <td>59.127978</td>\n",
              "    </tr>\n",
              "    <tr>\n",
              "      <th>sex</th>\n",
              "      <td>-3.957639</td>\n",
              "    </tr>\n",
              "    <tr>\n",
              "      <th>bmi</th>\n",
              "      <td>7.823107</td>\n",
              "    </tr>\n",
              "    <tr>\n",
              "      <th>bp</th>\n",
              "      <td>5.023787</td>\n",
              "    </tr>\n",
              "    <tr>\n",
              "      <th>s1</th>\n",
              "      <td>-1.900534</td>\n",
              "    </tr>\n",
              "    <tr>\n",
              "      <th>s2</th>\n",
              "      <td>1.401996</td>\n",
              "    </tr>\n",
              "    <tr>\n",
              "      <th>s3</th>\n",
              "      <td>0.470042</td>\n",
              "    </tr>\n",
              "    <tr>\n",
              "      <th>s4</th>\n",
              "      <td>1.100334</td>\n",
              "    </tr>\n",
              "    <tr>\n",
              "      <th>s5</th>\n",
              "      <td>4.373286</td>\n",
              "    </tr>\n",
              "    <tr>\n",
              "      <th>s6</th>\n",
              "      <td>1.012756</td>\n",
              "    </tr>\n",
              "  </tbody>\n",
              "</table>\n",
              "</div>"
            ],
            "text/plain": [
              "               0\n",
              "const  59.127978\n",
              "sex    -3.957639\n",
              "bmi     7.823107\n",
              "bp      5.023787\n",
              "s1     -1.900534\n",
              "s2      1.401996\n",
              "s3      0.470042\n",
              "s4      1.100334\n",
              "s5      4.373286\n",
              "s6      1.012756"
            ]
          },
          "metadata": {
            "tags": []
          },
          "execution_count": 72
        }
      ]
    },
    {
      "metadata": {
        "id": "DTYXoGRwYy20",
        "colab_type": "code",
        "outputId": "e6d2412d-6ae4-4239-d400-06b79c4a2595",
        "colab": {}
      },
      "cell_type": "code",
      "source": [
        "x_sm = sm.add_constant(diabetes_set.drop([\"Y\",\"age\",\"s3\"],axis=1))\n",
        "model = sm.OLS(diabetes_set[\"Y\"], x_sm)\n",
        "results = model.fit()\n",
        "pd.DataFrame(results.tvalues)"
      ],
      "execution_count": 0,
      "outputs": [
        {
          "output_type": "execute_result",
          "data": {
            "text/html": [
              "<div>\n",
              "<style scoped>\n",
              "    .dataframe tbody tr th:only-of-type {\n",
              "        vertical-align: middle;\n",
              "    }\n",
              "\n",
              "    .dataframe tbody tr th {\n",
              "        vertical-align: top;\n",
              "    }\n",
              "\n",
              "    .dataframe thead th {\n",
              "        text-align: right;\n",
              "    }\n",
              "</style>\n",
              "<table border=\"1\" class=\"dataframe\">\n",
              "  <thead>\n",
              "    <tr style=\"text-align: right;\">\n",
              "      <th></th>\n",
              "      <th>0</th>\n",
              "    </tr>\n",
              "  </thead>\n",
              "  <tbody>\n",
              "    <tr>\n",
              "      <th>const</th>\n",
              "      <td>59.181242</td>\n",
              "    </tr>\n",
              "    <tr>\n",
              "      <th>sex</th>\n",
              "      <td>-3.984963</td>\n",
              "    </tr>\n",
              "    <tr>\n",
              "      <th>bmi</th>\n",
              "      <td>7.818292</td>\n",
              "    </tr>\n",
              "    <tr>\n",
              "      <th>bp</th>\n",
              "      <td>5.017619</td>\n",
              "    </tr>\n",
              "    <tr>\n",
              "      <th>s1</th>\n",
              "      <td>-3.031346</td>\n",
              "    </tr>\n",
              "    <tr>\n",
              "      <th>s2</th>\n",
              "      <td>1.602949</td>\n",
              "    </tr>\n",
              "    <tr>\n",
              "      <th>s4</th>\n",
              "      <td>1.054337</td>\n",
              "    </tr>\n",
              "    <tr>\n",
              "      <th>s5</th>\n",
              "      <td>5.777892</td>\n",
              "    </tr>\n",
              "    <tr>\n",
              "      <th>s6</th>\n",
              "      <td>1.029069</td>\n",
              "    </tr>\n",
              "  </tbody>\n",
              "</table>\n",
              "</div>"
            ],
            "text/plain": [
              "               0\n",
              "const  59.181242\n",
              "sex    -3.984963\n",
              "bmi     7.818292\n",
              "bp      5.017619\n",
              "s1     -3.031346\n",
              "s2      1.602949\n",
              "s4      1.054337\n",
              "s5      5.777892\n",
              "s6      1.029069"
            ]
          },
          "metadata": {
            "tags": []
          },
          "execution_count": 73
        }
      ]
    },
    {
      "metadata": {
        "id": "lyQs5UgqYy2-",
        "colab_type": "text"
      },
      "cell_type": "markdown",
      "source": [
        "**Resumen de selección de características:**\n",
        "\n",
        "['age', 'sex', 'bmi', 'bp', 's1', 's2', 's3', 's4', 's5', 's6',]\n",
        "\n",
        "*  método 1: No sirivió mucho el método\n",
        "\n",
        "*  método 2: [2 4 1 1 5 6 1 1 1 3]\n",
        "\n",
        "* método 3: [ True, False,  True,  True, False,  True,  True, False,  True, True])\n",
        "\n",
        "* método 4: \"age\",\"s3\""
      ]
    },
    {
      "metadata": {
        "id": "WZe-CYtvYy3B",
        "colab_type": "text"
      },
      "cell_type": "markdown",
      "source": [
        "## Modelo RL"
      ]
    },
    {
      "metadata": {
        "id": "htvjs59ZYy3Z",
        "colab_type": "code",
        "outputId": "86164815-8cc0-4230-e8b9-d39488561367",
        "colab": {}
      },
      "cell_type": "code",
      "source": [
        "# esta lista contiene las variables a borrar por cada método\n",
        "grid_features = [[\"age\",\"sex\",\"s1\",\"s2\",\"s6\",\"Y\"],[\"sex\",\"s1\",\"s4\",\"Y\"],[\"age\",\"s3\",\"Y\"]]\n",
        "resultados_regresion = []\n",
        "plt.figure(figsize=(9,7))\n",
        "\n",
        "def regression(lista_variables): \n",
        "    X_train, X_test, y_train, y_test = train_test_split(diabetes_set.drop(lista_variables,axis=1),diabetes_set[\"Y\"] , test_size=0.3, random_state=101)\n",
        "    lm = LinearRegression()\n",
        "    lm.fit(X_train,y_train)\n",
        "    predictions = lm.predict(X_test)   \n",
        "    plt.scatter(y_test,predictions)   \n",
        "    resultados_regresion.append([metrics.mean_absolute_error(y_test, predictions),\n",
        "                                 metrics.mean_squared_error(y_test, predictions),\n",
        "                                 np.sqrt(metrics.mean_squared_error(y_test, predictions))])    \n",
        "    print('M.A.E:', metrics.mean_absolute_error(y_test, predictions))\n",
        "    print('M.S.E:', metrics.mean_squared_error(y_test, predictions))\n",
        "    print('R.M.S.E:', np.sqrt(metrics.mean_squared_error(y_test, predictions)),\"\\n\")\n",
        "    \n",
        "\n",
        "for i in grid_features:\n",
        "    regression(i)\n",
        "    "
      ],
      "execution_count": 0,
      "outputs": [
        {
          "output_type": "stream",
          "text": [
            "MAE: 45.852215383892016\n",
            "MSE: 3319.8487104978667\n",
            "RMSE: 57.618128314774914 \n",
            "\n",
            "MAE: 46.17886418209579\n",
            "MSE: 3318.6295993871945\n",
            "RMSE: 57.607548111225796 \n",
            "\n",
            "MAE: 45.967979334993935\n",
            "MSE: 3350.1952123709443\n",
            "RMSE: 57.88087086741996 \n",
            "\n"
          ],
          "name": "stdout"
        },
        {
          "output_type": "display_data",
          "data": {
            "image/png": "[encoded data removed]",
            "text/plain": [
              "<Figure size 648x504 with 1 Axes>"
            ]
          },
          "metadata": {
            "tags": [],
            "needs_background": "light"
          }
        }
      ]
    },
    {
      "metadata": {
        "id": "aO9_f82QYy33",
        "colab_type": "text"
      },
      "cell_type": "markdown",
      "source": [
        "## Regresion lineal con RN"
      ]
    },
    {
      "metadata": {
        "id": "1gQSKf9AYy37",
        "colab_type": "text"
      },
      "cell_type": "markdown",
      "source": [
        "#### 1: Api.estimator de TensorFlow "
      ]
    },
    {
      "metadata": {
        "id": "Vf8U01qPYy3-",
        "colab_type": "code",
        "outputId": "58325bee-293a-4365-aab0-0e0e4f47b13a",
        "colab": {}
      },
      "cell_type": "code",
      "source": [
        "X_train, X_test, y_train, y_test = train_test_split(diabetes_set.drop([\"Y\"],axis=1),\n",
        "                                                    diabetes_set[\"Y\"],\n",
        "                                                    test_size=0.2,\n",
        "                                                    random_state=101)\n",
        "\n",
        "X_train.columns"
      ],
      "execution_count": 0,
      "outputs": [
        {
          "output_type": "execute_result",
          "data": {
            "text/plain": [
              "Index(['age', 'sex', 'bmi', 'bp', 's1', 's2', 's3', 's4', 's5', 's6'], dtype='object')"
            ]
          },
          "metadata": {
            "tags": []
          },
          "execution_count": 76
        }
      ]
    },
    {
      "metadata": {
        "id": "dTxIe_QhYy4Y",
        "colab_type": "code",
        "colab": {}
      },
      "cell_type": "code",
      "source": [
        "#column features (numéricas)\n",
        "age = tf.feature_column.numeric_column('age')\n",
        "sex = tf.feature_column.numeric_column('sex')\n",
        "bmi = tf.feature_column.numeric_column('bmi')\n",
        "bp = tf.feature_column.numeric_column('bp')\n",
        "s1 = tf.feature_column.numeric_column('s1')\n",
        "s2 = tf.feature_column.numeric_column('s2')\n",
        "s3 = tf.feature_column.numeric_column('s3')\n",
        "s4 = tf.feature_column.numeric_column('s4')\n",
        "s5 = tf.feature_column.numeric_column('s5')\n",
        "s6 = tf.feature_column.numeric_column('s6')"
      ],
      "execution_count": 0,
      "outputs": []
    },
    {
      "metadata": {
        "id": "TvIpoBtSYy46",
        "colab_type": "code",
        "colab": {}
      },
      "cell_type": "code",
      "source": [
        "feat_cols = [age,sex, bmi, bp, s1, s2, s3, s4, s5, s6]\n",
        "# Entrada entrenamiento\n",
        "input_func = tf.estimator.inputs.pandas_input_fn(x=X_train,\n",
        "                                                 y=y_train ,\n",
        "                                                 batch_size=10,\n",
        "                                                 num_epochs=3000,\n",
        "                                                 shuffle=True)\n",
        "\n",
        "# se supone red de 5 capas ocultas, se busca optimo de neuronas\n",
        "neuronas_por_capa = [2,4,8,16,32,64]"
      ],
      "execution_count": 0,
      "outputs": []
    },
    {
      "metadata": {
        "scrolled": true,
        "id": "N-cb6iZiYy5y",
        "colab_type": "code",
        "colab": {}
      },
      "cell_type": "code",
      "source": [
        "history_neuron = []\n",
        "\n",
        "for i in neuronas_por_capa:\n",
        "    model = tf.estimator.DNNRegressor(hidden_units=[i,i,i,i,i],feature_columns=feat_cols)\n",
        "    model.train(input_fn=input_func,steps=5000)\n",
        "    predict_input_func = tf.estimator.inputs.pandas_input_fn(\n",
        "        x=X_test,\n",
        "        batch_size=10,\n",
        "        num_epochs=1,\n",
        "        shuffle=False)\n",
        "    pred_gen = model.predict(predict_input_func)\n",
        "    predictions = list(pred_gen)\n",
        "    final_preds = []\n",
        "    for pred in predictions:\n",
        "        final_preds.append(pred['predictions'])   \n",
        "    history_neuron.append(mean_squared_error(y_test,final_preds))\n",
        "    \n",
        "# error\n",
        "plt.figure(figsize=(10,5))\n",
        "plt.xlabel('Neuronas por capa')\n",
        "plt.title(\"MSE por # de neuronas por capa\")\n",
        "plt.plot(neuronas_por_capa, history_neuron, 'ko-')\n",
        "plt.grid()"
      ],
      "execution_count": 0,
      "outputs": []
    },
    {
      "metadata": {
        "id": "sCmsmOtKYy6V",
        "colab_type": "code",
        "colab": {}
      },
      "cell_type": "code",
      "source": [
        "# seleccionamos el valor de 8 y ahora vamos a tuner el número de capas ocultas\n",
        "capas = [[8],[8,8],[8,8,8],[8,8,8,8],[8,8,8,8,8],[8,8,8,8,8,8]]"
      ],
      "execution_count": 0,
      "outputs": []
    },
    {
      "metadata": {
        "scrolled": true,
        "id": "a0hEQkU3Yy6e",
        "colab_type": "code",
        "colab": {}
      },
      "cell_type": "code",
      "source": [
        "history_layers = []\n",
        "for i in capas:\n",
        "    model = tf.estimator.DNNRegressor(hidden_units=i,feature_columns=feat_cols)\n",
        "    model.train(input_fn=input_func,steps=5000)\n",
        "    predict_input_func = tf.estimator.inputs.pandas_input_fn(\n",
        "        x=X_test,\n",
        "        batch_size=10,\n",
        "        num_epochs=1,\n",
        "        shuffle=False)\n",
        "    pred_gen = model.predict(predict_input_func)\n",
        "    predictions = list(pred_gen)\n",
        "    final_preds = []\n",
        "    for pred in predictions:\n",
        "        final_preds.append(pred['predictions'])\n",
        "    history_layers.append(mean_squared_error(y_test,final_preds))"
      ],
      "execution_count": 0,
      "outputs": []
    },
    {
      "metadata": {
        "colab_type": "code",
        "outputId": "e4c69244-34aa-4daa-ebf4-5115b897ab3b",
        "id": "qWuSL52R4YQe",
        "colab": {}
      },
      "cell_type": "code",
      "source": [
        "plt.figure(figsize=(10,5))\n",
        "plt.xlabel('Capas')\n",
        "plt.title(\"MSE por Cantidad de capas\")\n",
        "plt.plot([1,2,3,4,5,6], history_layers, 'ko-')\n",
        "plt.grid()"
      ],
      "execution_count": 0,
      "outputs": [
        {
          "output_type": "display_data",
          "data": {
            "image/png": "[encoded data removed]",
            "text/plain": [
              "<Figure size 720x360 with 1 Axes>"
            ]
          },
          "metadata": {
            "tags": [],
            "needs_background": "light"
          }
        }
      ]
    },
    {
      "metadata": {
        "id": "GJJ8pYGZYy68",
        "colab_type": "text"
      },
      "cell_type": "markdown",
      "source": [
        "**Entrenamiento del modelo con los dos hyperparámetros más óptimos, 2 capas ocultas de 8 neuronas **"
      ]
    },
    {
      "metadata": {
        "id": "p5M7ju1oYy7K",
        "colab_type": "code",
        "outputId": "51fb3f29-a410-4cfe-b9be-bbcae5b78a7b",
        "colab": {}
      },
      "cell_type": "code",
      "source": [
        "lista_feat_cols = [[bmi,bp,s4,s5],[bmi, bp,s2,s5,s6],[sex, bmi, bp, s1, s2, s4, s5, s6]]\n",
        "plt.figure(figsize=(10,5))\n",
        "plt.xlabel('\\n entradas')\n",
        "plt.title(\"MSE\")\n",
        "plt.plot([\"[bmi,bp,s4,s5]\",\"[bmi, bp,s2,s5,s6]\",\"[sex, bmi, bp, s1, s2, s4, s5, s6]\"], history_layers, 'ko-')\n",
        "\n",
        "\n",
        "plt.grid()"
      ],
      "execution_count": 0,
      "outputs": [
        {
          "output_type": "display_data",
          "data": {
            "image/png": "[encoded data removed]",
            "text/plain": [
              "<Figure size 720x360 with 1 Axes>"
            ]
          },
          "metadata": {
            "tags": [],
            "needs_background": "light"
          }
        }
      ]
    },
    {
      "metadata": {
        "id": "DBcpKhyrYy7b",
        "colab_type": "text"
      },
      "cell_type": "markdown",
      "source": [
        "#### Modelo final con Api.estimator:\n",
        "     * Variables          [sex, bmi, bp, s1, s2, s4, s5, s6]\n",
        "     * Capas              2\n",
        "     * Neuronas por capa  8"
      ]
    },
    {
      "metadata": {
        "scrolled": true,
        "id": "utADFju4Yy7l",
        "colab_type": "code",
        "colab": {}
      },
      "cell_type": "code",
      "source": [
        "tf.reset_default_graph()\n",
        "feat_cols = [sex, bmi, bp, s1, s2, s4, s5, s6]\n",
        "model = tf.estimator.DNNRegressor(hidden_units=[8,8],feature_columns=feat_cols)\n",
        "model.train(input_fn=input_func,steps=5000)\n",
        "predict_input_func = tf.estimator.inputs.pandas_input_fn(\n",
        "      x=X_test,\n",
        "      batch_size=10,\n",
        "      num_epochs=1,\n",
        "      shuffle=False)\n",
        "pred_gen = model.predict(predict_input_func)\n",
        "predictions = list(pred_gen)\n",
        "final_preds = []\n",
        "for pred in predictions:\n",
        "    final_preds.append(pred['predictions'])"
      ],
      "execution_count": 0,
      "outputs": []
    },
    {
      "metadata": {
        "id": "5qcj_PkNYy7s",
        "colab_type": "code",
        "outputId": "efd018c2-82dd-4236-e035-4eee819594eb",
        "colab": {}
      },
      "cell_type": "code",
      "source": [
        "plt.figure(figsize=(7,5))\n",
        "plt.title(\"y_test vs y_pred \")\n",
        "plt.scatter(y_test,final_preds,color=\"black\")"
      ],
      "execution_count": 0,
      "outputs": [
        {
          "output_type": "execute_result",
          "data": {
            "text/plain": [
              "<matplotlib.collections.PathCollection at 0x2fb3cd5a9e8>"
            ]
          },
          "metadata": {
            "tags": []
          },
          "execution_count": 92
        },
        {
          "output_type": "display_data",
          "data": {
            "image/png": "[encoded data removed]",
            "text/plain": [
              "<Figure size 504x360 with 1 Axes>"
            ]
          },
          "metadata": {
            "tags": [],
            "needs_background": "light"
          }
        }
      ]
    },
    {
      "metadata": {
        "id": "5JBNpfvwYy7-",
        "colab_type": "code",
        "outputId": "2d6ff654-73e3-49a1-cf28-e6244e7a9535",
        "colab": {}
      },
      "cell_type": "code",
      "source": [
        "mae_nn =  metrics.mean_absolute_error(y_test, final_preds)\n",
        "mse_nn =  metrics.mean_squared_error(y_test, final_preds)\n",
        "rmse_nn = np.sqrt(metrics.mean_squared_error(y_test, final_preds))\n",
        "\n",
        "print(mae_nn,mse_nn,rmse_nn)"
      ],
      "execution_count": 0,
      "outputs": [
        {
          "output_type": "stream",
          "text": [
            "43.77722643734364 2852.755997456919 53.41119730409457\n"
          ],
          "name": "stdout"
        }
      ]
    },
    {
      "metadata": {
        "id": "G5rgBA4vYy8I",
        "colab_type": "code",
        "colab": {}
      },
      "cell_type": "code",
      "source": [
        "resultados_tf_estimator = [mae_nn,mse_nn,rmse_nn]"
      ],
      "execution_count": 0,
      "outputs": []
    },
    {
      "metadata": {
        "id": "UibyjJliYy8Q",
        "colab_type": "text"
      },
      "cell_type": "markdown",
      "source": [
        "### C.V"
      ]
    },
    {
      "metadata": {
        "id": "3dwUY1krYy8R",
        "colab_type": "code",
        "colab": {}
      },
      "cell_type": "code",
      "source": [
        ""
      ],
      "execution_count": 0,
      "outputs": []
    },
    {
      "metadata": {
        "scrolled": true,
        "id": "duyKdmTeYy8c",
        "colab_type": "code",
        "colab": {}
      },
      "cell_type": "code",
      "source": [
        "X = diabetes_set.drop([\"Y\"],axis = 1).values\n",
        "y = diabetes_set[\"Y\"].values\n",
        "def cross_validation(train_index, test_index,X,y):    \n",
        "    \n",
        "    X_train, X_test = pd.DataFrame(X[train_index]), pd.DataFrame(X[test_index])\n",
        "    y_train, y_test = pd.DataFrame(y[train_index]), pd.DataFrame(y[test_index])\n",
        "    \n",
        "    X_train.columns = ['age', 'sex', 'bmi', 'bp', 's1', 's2', 's3', 's4', 's5', 's6']\n",
        "    X_test.columns = X_train.columns = ['age', 'sex', 'bmi', 'bp', 's1', 's2', 's3', 's4', 's5', 's6']\n",
        "    #y_train.columns = [\"Y\"]\n",
        "    #y_test.columns = [\"Y\"]\n",
        "    \n",
        "    sex = tf.feature_column.numeric_column('sex')\n",
        "    bmi = tf.feature_column.numeric_column('bmi')\n",
        "    bp = tf.feature_column.numeric_column('bp')\n",
        "    s1 = tf.feature_column.numeric_column('s1')\n",
        "    s2 = tf.feature_column.numeric_column('s2')\n",
        "    s4 = tf.feature_column.numeric_column('s4')\n",
        "    s5 = tf.feature_column.numeric_column('s5')\n",
        "    s6 = tf.feature_column.numeric_column('s6')\n",
        "\n",
        "    feat_cols = [sex, bmi, bp, s1, s2,s4, s5, s6]\n",
        "\n",
        "    input_func = tf.estimator.inputs.pandas_input_fn(x=X_train,\n",
        "                                                     y= y_train[0],\n",
        "                                                     batch_size=10,\n",
        "                                                     num_epochs=3000,\n",
        "                                                     shuffle=False)\n",
        "    \n",
        "    model = tf.estimator.DNNRegressor(hidden_units=[4,4,4],feature_columns=feat_cols)\n",
        "\n",
        "    model.train(input_fn=input_func,steps=5000)\n",
        "\n",
        "    predict_input_func = tf.estimator.inputs.pandas_input_fn(\n",
        "        x=X_test,\n",
        "        batch_size=10,\n",
        "        num_epochs=1,\n",
        "        shuffle=False)\n",
        "\n",
        "    pred_gen = model.predict(predict_input_func)\n",
        "\n",
        "    predictions = list(pred_gen)\n",
        "\n",
        "    final_preds = []\n",
        "\n",
        "    for pred in predictions:\n",
        "        final_preds.append(pred['predictions'])   \n",
        "\n",
        "    return metrics.mean_squared_error(y_test, final_preds)\n",
        "   "
      ],
      "execution_count": 0,
      "outputs": []
    },
    {
      "metadata": {
        "id": "cGbQpxqCYy8i",
        "colab_type": "code",
        "outputId": "ea027e88-85ab-4529-db5f-d1fa3f83a26d",
        "colab": {}
      },
      "cell_type": "code",
      "source": [
        "kf = KFold(n_splits=4)\n",
        "\n",
        "resultado_cross = []\n",
        "\n",
        "for train_index, test_index in kf.split(X):    \n",
        "\n",
        "    resultado_cross.append(cross_validation(train_index,test_index,X,y))"
      ],
      "execution_count": 0,
      "outputs": [
        {
          "output_type": "stream",
          "text": [
            "INFO:tensorflow:Using default config.\n",
            "WARNING:tensorflow:Using temporary folder as model directory: C:\\Users\\andre\\AppData\\Local\\Temp\\tmppozcbgj8\n",
            "INFO:tensorflow:Using config: {'_model_dir': 'C:\\\\Users\\\\andre\\\\AppData\\\\Local\\\\Temp\\\\tmppozcbgj8', '_tf_random_seed': None, '_save_summary_steps': 100, '_save_checkpoints_steps': None, '_save_checkpoints_secs': 600, '_session_config': allow_soft_placement: true\n",
            "graph_options {\n",
            "  rewrite_options {\n",
            "    meta_optimizer_iterations: ONE\n",
            "  }\n",
            "}\n",
            ", '_keep_checkpoint_max': 5, '_keep_checkpoint_every_n_hours': 10000, '_log_step_count_steps': 100, '_train_distribute': None, '_device_fn': None, '_protocol': None, '_eval_distribute': None, '_experimental_distribute': None, '_service': None, '_cluster_spec': <tensorflow.python.training.server_lib.ClusterSpec object at 0x000002FB3866A9B0>, '_task_type': 'worker', '_task_id': 0, '_global_id_in_cluster': 0, '_master': '', '_evaluation_master': '', '_is_chief': True, '_num_ps_replicas': 0, '_num_worker_replicas': 1}\n",
            "INFO:tensorflow:Calling model_fn.\n",
            "INFO:tensorflow:Done calling model_fn.\n",
            "INFO:tensorflow:Create CheckpointSaverHook.\n",
            "INFO:tensorflow:Graph was finalized.\n",
            "INFO:tensorflow:Running local_init_op.\n",
            "INFO:tensorflow:Done running local_init_op.\n",
            "INFO:tensorflow:Saving checkpoints for 0 into C:\\Users\\andre\\AppData\\Local\\Temp\\tmppozcbgj8\\model.ckpt.\n",
            "INFO:tensorflow:loss = 537923.25, step = 1\n",
            "INFO:tensorflow:global_step/sec: 497.736\n",
            "INFO:tensorflow:loss = 61718.78, step = 101 (0.202 sec)\n",
            "INFO:tensorflow:global_step/sec: 671.592\n",
            "INFO:tensorflow:loss = 26001.25, step = 201 (0.152 sec)\n",
            "INFO:tensorflow:global_step/sec: 662.677\n",
            "INFO:tensorflow:loss = 76616.87, step = 301 (0.149 sec)\n",
            "INFO:tensorflow:global_step/sec: 775.633\n",
            "INFO:tensorflow:loss = 51393.914, step = 401 (0.130 sec)\n",
            "INFO:tensorflow:global_step/sec: 787.852\n",
            "INFO:tensorflow:loss = 43164.93, step = 501 (0.126 sec)\n",
            "INFO:tensorflow:global_step/sec: 820.075\n",
            "INFO:tensorflow:loss = 33213.31, step = 601 (0.123 sec)\n",
            "INFO:tensorflow:global_step/sec: 613.85\n",
            "INFO:tensorflow:loss = 19549.47, step = 701 (0.163 sec)\n",
            "INFO:tensorflow:global_step/sec: 625.346\n",
            "INFO:tensorflow:loss = 19928.502, step = 801 (0.160 sec)\n",
            "INFO:tensorflow:global_step/sec: 613.838\n",
            "INFO:tensorflow:loss = 18616.648, step = 901 (0.164 sec)\n",
            "INFO:tensorflow:global_step/sec: 621.485\n",
            "INFO:tensorflow:loss = 46512.047, step = 1001 (0.159 sec)\n",
            "INFO:tensorflow:global_step/sec: 625.369\n",
            "INFO:tensorflow:loss = 40749.773, step = 1101 (0.161 sec)\n",
            "INFO:tensorflow:global_step/sec: 629.329\n",
            "INFO:tensorflow:loss = 33773.97, step = 1201 (0.159 sec)\n",
            "INFO:tensorflow:global_step/sec: 621.436\n",
            "INFO:tensorflow:loss = 36785.883, step = 1301 (0.162 sec)\n",
            "INFO:tensorflow:global_step/sec: 621.512\n",
            "INFO:tensorflow:loss = 47182.945, step = 1401 (0.159 sec)\n",
            "INFO:tensorflow:global_step/sec: 629.289\n",
            "INFO:tensorflow:loss = 33268.547, step = 1501 (0.160 sec)\n",
            "INFO:tensorflow:global_step/sec: 610.068\n",
            "INFO:tensorflow:loss = 18576.307, step = 1601 (0.164 sec)\n",
            "INFO:tensorflow:global_step/sec: 621.476\n",
            "INFO:tensorflow:loss = 40071.984, step = 1701 (0.162 sec)\n",
            "INFO:tensorflow:global_step/sec: 629.328\n",
            "INFO:tensorflow:loss = 27938.316, step = 1801 (0.158 sec)\n",
            "INFO:tensorflow:global_step/sec: 617.6\n",
            "INFO:tensorflow:loss = 22635.443, step = 1901 (0.161 sec)\n",
            "INFO:tensorflow:global_step/sec: 625.318\n",
            "INFO:tensorflow:loss = 49550.69, step = 2001 (0.161 sec)\n",
            "INFO:tensorflow:global_step/sec: 629.368\n",
            "INFO:tensorflow:loss = 34246.254, step = 2101 (0.158 sec)\n",
            "INFO:tensorflow:global_step/sec: 621.438\n",
            "INFO:tensorflow:loss = 27821.586, step = 2201 (0.161 sec)\n",
            "INFO:tensorflow:global_step/sec: 606.407\n",
            "INFO:tensorflow:loss = 47214.086, step = 2301 (0.166 sec)\n",
            "INFO:tensorflow:global_step/sec: 617.636\n",
            "INFO:tensorflow:loss = 36454.914, step = 2401 (0.161 sec)\n",
            "INFO:tensorflow:global_step/sec: 625.357\n",
            "INFO:tensorflow:loss = 46140.18, step = 2501 (0.161 sec)\n",
            "INFO:tensorflow:global_step/sec: 621.515\n",
            "INFO:tensorflow:loss = 31053.129, step = 2601 (0.160 sec)\n",
            "INFO:tensorflow:global_step/sec: 637.303\n",
            "INFO:tensorflow:loss = 35896.57, step = 2701 (0.158 sec)\n",
            "INFO:tensorflow:global_step/sec: 610.109\n",
            "INFO:tensorflow:loss = 13797.631, step = 2801 (0.164 sec)\n",
            "INFO:tensorflow:global_step/sec: 602.706\n",
            "INFO:tensorflow:loss = 13099.21, step = 2901 (0.165 sec)\n",
            "INFO:tensorflow:global_step/sec: 617.688\n",
            "INFO:tensorflow:loss = 18993.496, step = 3001 (0.163 sec)\n",
            "INFO:tensorflow:global_step/sec: 625.316\n",
            "INFO:tensorflow:loss = 30237.21, step = 3101 (0.159 sec)\n",
            "INFO:tensorflow:global_step/sec: 606.409\n",
            "INFO:tensorflow:loss = 40870.277, step = 3201 (0.165 sec)\n",
            "INFO:tensorflow:global_step/sec: 629.331\n",
            "INFO:tensorflow:loss = 11924.339, step = 3301 (0.161 sec)\n",
            "INFO:tensorflow:global_step/sec: 621.415\n",
            "INFO:tensorflow:loss = 19455.66, step = 3401 (0.160 sec)\n",
            "INFO:tensorflow:global_step/sec: 606.418\n",
            "INFO:tensorflow:loss = 59226.92, step = 3501 (0.164 sec)\n",
            "INFO:tensorflow:global_step/sec: 621.52\n",
            "INFO:tensorflow:loss = 29648.516, step = 3601 (0.160 sec)\n",
            "INFO:tensorflow:global_step/sec: 617.639\n",
            "INFO:tensorflow:loss = 35053.723, step = 3701 (0.164 sec)\n",
            "INFO:tensorflow:global_step/sec: 613.81\n",
            "INFO:tensorflow:loss = 54127.445, step = 3801 (0.163 sec)\n",
            "INFO:tensorflow:global_step/sec: 625.356\n",
            "INFO:tensorflow:loss = 28236.803, step = 3901 (0.158 sec)\n",
            "INFO:tensorflow:global_step/sec: 621.474\n",
            "INFO:tensorflow:loss = 28494.805, step = 4001 (0.161 sec)\n",
            "INFO:tensorflow:global_step/sec: 606.409\n",
            "INFO:tensorflow:loss = 27673.545, step = 4101 (0.167 sec)\n",
            "INFO:tensorflow:global_step/sec: 621.475\n",
            "INFO:tensorflow:loss = 9716.639, step = 4201 (0.160 sec)\n",
            "INFO:tensorflow:global_step/sec: 617.625\n",
            "INFO:tensorflow:loss = 16252.116, step = 4301 (0.161 sec)\n",
            "INFO:tensorflow:global_step/sec: 625.369\n",
            "INFO:tensorflow:loss = 26177.654, step = 4401 (0.162 sec)\n",
            "INFO:tensorflow:global_step/sec: 624.228\n",
            "INFO:tensorflow:loss = 34173.96, step = 4501 (0.158 sec)\n",
            "INFO:tensorflow:global_step/sec: 637.309\n",
            "INFO:tensorflow:loss = 17178.611, step = 4601 (0.158 sec)\n",
            "INFO:tensorflow:global_step/sec: 613.714\n",
            "INFO:tensorflow:loss = 26786.406, step = 4701 (0.164 sec)\n",
            "INFO:tensorflow:global_step/sec: 629.331\n",
            "INFO:tensorflow:loss = 29872.213, step = 4801 (0.157 sec)\n",
            "INFO:tensorflow:global_step/sec: 625.317\n",
            "INFO:tensorflow:loss = 32859.65, step = 4901 (0.160 sec)\n",
            "INFO:tensorflow:Saving checkpoints for 5000 into C:\\Users\\andre\\AppData\\Local\\Temp\\tmppozcbgj8\\model.ckpt.\n",
            "INFO:tensorflow:Loss for final step: 27389.326.\n",
            "INFO:tensorflow:Calling model_fn.\n",
            "INFO:tensorflow:Done calling model_fn.\n",
            "INFO:tensorflow:Graph was finalized.\n",
            "INFO:tensorflow:Restoring parameters from C:\\Users\\andre\\AppData\\Local\\Temp\\tmppozcbgj8\\model.ckpt-5000\n",
            "INFO:tensorflow:Running local_init_op.\n",
            "INFO:tensorflow:Done running local_init_op.\n",
            "INFO:tensorflow:Using default config.\n",
            "WARNING:tensorflow:Using temporary folder as model directory: C:\\Users\\andre\\AppData\\Local\\Temp\\tmpqkht50kj\n",
            "INFO:tensorflow:Using config: {'_model_dir': 'C:\\\\Users\\\\andre\\\\AppData\\\\Local\\\\Temp\\\\tmpqkht50kj', '_tf_random_seed': None, '_save_summary_steps': 100, '_save_checkpoints_steps': None, '_save_checkpoints_secs': 600, '_session_config': allow_soft_placement: true\n",
            "graph_options {\n",
            "  rewrite_options {\n",
            "    meta_optimizer_iterations: ONE\n",
            "  }\n",
            "}\n",
            ", '_keep_checkpoint_max': 5, '_keep_checkpoint_every_n_hours': 10000, '_log_step_count_steps': 100, '_train_distribute': None, '_device_fn': None, '_protocol': None, '_eval_distribute': None, '_experimental_distribute': None, '_service': None, '_cluster_spec': <tensorflow.python.training.server_lib.ClusterSpec object at 0x000002FB38479278>, '_task_type': 'worker', '_task_id': 0, '_global_id_in_cluster': 0, '_master': '', '_evaluation_master': '', '_is_chief': True, '_num_ps_replicas': 0, '_num_worker_replicas': 1}\n",
            "INFO:tensorflow:Calling model_fn.\n",
            "INFO:tensorflow:Done calling model_fn.\n",
            "INFO:tensorflow:Create CheckpointSaverHook.\n",
            "INFO:tensorflow:Graph was finalized.\n",
            "INFO:tensorflow:Running local_init_op.\n",
            "INFO:tensorflow:Done running local_init_op.\n",
            "INFO:tensorflow:Saving checkpoints for 0 into C:\\Users\\andre\\AppData\\Local\\Temp\\tmpqkht50kj\\model.ckpt.\n",
            "INFO:tensorflow:loss = 249615.06, step = 1\n",
            "INFO:tensorflow:global_step/sec: 506.972\n",
            "INFO:tensorflow:loss = 112738.41, step = 101 (0.201 sec)\n",
            "INFO:tensorflow:global_step/sec: 637.267\n",
            "INFO:tensorflow:loss = 25426.77, step = 201 (0.156 sec)\n"
          ],
          "name": "stdout"
        },
        {
          "output_type": "stream",
          "text": [
            "INFO:tensorflow:global_step/sec: 709.616\n",
            "INFO:tensorflow:loss = 44717.812, step = 301 (0.140 sec)\n",
            "INFO:tensorflow:global_step/sec: 637.315\n",
            "INFO:tensorflow:loss = 85213.44, step = 401 (0.158 sec)\n",
            "INFO:tensorflow:global_step/sec: 680.663\n",
            "INFO:tensorflow:loss = 61335.66, step = 501 (0.145 sec)\n",
            "INFO:tensorflow:global_step/sec: 671.525\n",
            "INFO:tensorflow:loss = 38081.35, step = 601 (0.150 sec)\n",
            "INFO:tensorflow:global_step/sec: 709.673\n",
            "INFO:tensorflow:loss = 36283.754, step = 701 (0.143 sec)\n",
            "INFO:tensorflow:global_step/sec: 679.52\n",
            "INFO:tensorflow:loss = 29548.28, step = 801 (0.146 sec)\n",
            "INFO:tensorflow:global_step/sec: 709.674\n",
            "INFO:tensorflow:loss = 22497.074, step = 901 (0.141 sec)\n",
            "INFO:tensorflow:global_step/sec: 709.565\n",
            "INFO:tensorflow:loss = 54794.438, step = 1001 (0.140 sec)\n",
            "INFO:tensorflow:global_step/sec: 676.073\n",
            "INFO:tensorflow:loss = 47733.453, step = 1101 (0.149 sec)\n",
            "INFO:tensorflow:global_step/sec: 658.557\n",
            "INFO:tensorflow:loss = 26108.582, step = 1201 (0.151 sec)\n",
            "INFO:tensorflow:global_step/sec: 654.774\n",
            "INFO:tensorflow:loss = 35264.637, step = 1301 (0.154 sec)\n",
            "INFO:tensorflow:global_step/sec: 690.023\n",
            "INFO:tensorflow:loss = 41488.215, step = 1401 (0.144 sec)\n",
            "INFO:tensorflow:global_step/sec: 641.413\n",
            "INFO:tensorflow:loss = 31436.324, step = 1501 (0.157 sec)\n",
            "INFO:tensorflow:global_step/sec: 685.327\n",
            "INFO:tensorflow:loss = 19418.408, step = 1601 (0.146 sec)\n",
            "INFO:tensorflow:global_step/sec: 662.611\n",
            "INFO:tensorflow:loss = 43625.33, step = 1701 (0.153 sec)\n",
            "INFO:tensorflow:global_step/sec: 645.549\n",
            "INFO:tensorflow:loss = 34695.117, step = 1801 (0.152 sec)\n",
            "INFO:tensorflow:global_step/sec: 637.307\n",
            "INFO:tensorflow:loss = 27443.105, step = 1901 (0.158 sec)\n",
            "INFO:tensorflow:global_step/sec: 641.382\n",
            "INFO:tensorflow:loss = 54715.71, step = 2001 (0.158 sec)\n",
            "INFO:tensorflow:global_step/sec: 683.174\n",
            "INFO:tensorflow:loss = 36857.36, step = 2101 (0.145 sec)\n",
            "INFO:tensorflow:global_step/sec: 629.883\n",
            "INFO:tensorflow:loss = 28661.283, step = 2201 (0.158 sec)\n",
            "INFO:tensorflow:global_step/sec: 631.49\n",
            "INFO:tensorflow:loss = 44502.266, step = 2301 (0.158 sec)\n",
            "INFO:tensorflow:global_step/sec: 629.248\n",
            "INFO:tensorflow:loss = 35134.562, step = 2401 (0.159 sec)\n",
            "INFO:tensorflow:global_step/sec: 645.529\n",
            "INFO:tensorflow:loss = 49258.96, step = 2501 (0.155 sec)\n",
            "INFO:tensorflow:global_step/sec: 645.542\n",
            "INFO:tensorflow:loss = 32004.66, step = 2601 (0.153 sec)\n",
            "INFO:tensorflow:global_step/sec: 643.635\n",
            "INFO:tensorflow:loss = 34156.156, step = 2701 (0.158 sec)\n",
            "INFO:tensorflow:global_step/sec: 643.049\n",
            "INFO:tensorflow:loss = 11609.369, step = 2801 (0.153 sec)\n",
            "INFO:tensorflow:global_step/sec: 535.064\n",
            "INFO:tensorflow:loss = 12542.603, step = 2901 (0.188 sec)\n",
            "INFO:tensorflow:global_step/sec: 613.79\n",
            "INFO:tensorflow:loss = 17697.496, step = 3001 (0.164 sec)\n",
            "INFO:tensorflow:global_step/sec: 633.191\n",
            "INFO:tensorflow:loss = 31011.508, step = 3101 (0.160 sec)\n",
            "INFO:tensorflow:global_step/sec: 583.947\n",
            "INFO:tensorflow:loss = 39379.785, step = 3201 (0.170 sec)\n",
            "INFO:tensorflow:global_step/sec: 536.081\n",
            "INFO:tensorflow:loss = 10694.292, step = 3301 (0.185 sec)\n",
            "INFO:tensorflow:global_step/sec: 592.051\n",
            "INFO:tensorflow:loss = 20882.848, step = 3401 (0.170 sec)\n",
            "INFO:tensorflow:global_step/sec: 549.764\n",
            "INFO:tensorflow:loss = 69092.03, step = 3501 (0.181 sec)\n",
            "INFO:tensorflow:global_step/sec: 616.76\n",
            "INFO:tensorflow:loss = 30348.594, step = 3601 (0.162 sec)\n",
            "INFO:tensorflow:global_step/sec: 535.111\n",
            "INFO:tensorflow:loss = 34471.746, step = 3701 (0.189 sec)\n",
            "INFO:tensorflow:global_step/sec: 555.87\n",
            "INFO:tensorflow:loss = 52002.64, step = 3801 (0.179 sec)\n",
            "INFO:tensorflow:global_step/sec: 585.133\n",
            "INFO:tensorflow:loss = 31120.008, step = 3901 (0.171 sec)\n",
            "INFO:tensorflow:global_step/sec: 526.616\n",
            "INFO:tensorflow:loss = 25009.72, step = 4001 (0.192 sec)\n",
            "INFO:tensorflow:global_step/sec: 588.55\n",
            "INFO:tensorflow:loss = 28079.564, step = 4101 (0.168 sec)\n",
            "INFO:tensorflow:global_step/sec: 529.423\n",
            "INFO:tensorflow:loss = 10317.232, step = 4201 (0.190 sec)\n",
            "INFO:tensorflow:global_step/sec: 595.74\n",
            "INFO:tensorflow:loss = 18831.387, step = 4301 (0.166 sec)\n",
            "INFO:tensorflow:global_step/sec: 555.902\n",
            "INFO:tensorflow:loss = 25291.066, step = 4401 (0.181 sec)\n",
            "INFO:tensorflow:global_step/sec: 595.579\n",
            "INFO:tensorflow:loss = 31874.996, step = 4501 (0.167 sec)\n",
            "INFO:tensorflow:global_step/sec: 641.397\n",
            "INFO:tensorflow:loss = 15268.01, step = 4601 (0.155 sec)\n",
            "INFO:tensorflow:global_step/sec: 521.417\n",
            "INFO:tensorflow:loss = 16661.719, step = 4701 (0.196 sec)\n",
            "INFO:tensorflow:global_step/sec: 585.116\n",
            "INFO:tensorflow:loss = 33819.207, step = 4801 (0.168 sec)\n",
            "INFO:tensorflow:global_step/sec: 581.761\n",
            "INFO:tensorflow:loss = 16204.615, step = 4901 (0.172 sec)\n",
            "INFO:tensorflow:Saving checkpoints for 5000 into C:\\Users\\andre\\AppData\\Local\\Temp\\tmpqkht50kj\\model.ckpt.\n",
            "INFO:tensorflow:Loss for final step: 26207.076.\n",
            "INFO:tensorflow:Calling model_fn.\n",
            "INFO:tensorflow:Done calling model_fn.\n",
            "INFO:tensorflow:Graph was finalized.\n",
            "INFO:tensorflow:Restoring parameters from C:\\Users\\andre\\AppData\\Local\\Temp\\tmpqkht50kj\\model.ckpt-5000\n",
            "INFO:tensorflow:Running local_init_op.\n",
            "INFO:tensorflow:Done running local_init_op.\n",
            "INFO:tensorflow:Using default config.\n",
            "WARNING:tensorflow:Using temporary folder as model directory: C:\\Users\\andre\\AppData\\Local\\Temp\\tmpwc34_qo4\n",
            "INFO:tensorflow:Using config: {'_model_dir': 'C:\\\\Users\\\\andre\\\\AppData\\\\Local\\\\Temp\\\\tmpwc34_qo4', '_tf_random_seed': None, '_save_summary_steps': 100, '_save_checkpoints_steps': None, '_save_checkpoints_secs': 600, '_session_config': allow_soft_placement: true\n",
            "graph_options {\n",
            "  rewrite_options {\n",
            "    meta_optimizer_iterations: ONE\n",
            "  }\n",
            "}\n",
            ", '_keep_checkpoint_max': 5, '_keep_checkpoint_every_n_hours': 10000, '_log_step_count_steps': 100, '_train_distribute': None, '_device_fn': None, '_protocol': None, '_eval_distribute': None, '_experimental_distribute': None, '_service': None, '_cluster_spec': <tensorflow.python.training.server_lib.ClusterSpec object at 0x000002FB40AFA588>, '_task_type': 'worker', '_task_id': 0, '_global_id_in_cluster': 0, '_master': '', '_evaluation_master': '', '_is_chief': True, '_num_ps_replicas': 0, '_num_worker_replicas': 1}\n",
            "INFO:tensorflow:Calling model_fn.\n",
            "INFO:tensorflow:Done calling model_fn.\n",
            "INFO:tensorflow:Create CheckpointSaverHook.\n",
            "INFO:tensorflow:Graph was finalized.\n",
            "INFO:tensorflow:Running local_init_op.\n",
            "INFO:tensorflow:Done running local_init_op.\n",
            "INFO:tensorflow:Saving checkpoints for 0 into C:\\Users\\andre\\AppData\\Local\\Temp\\tmpwc34_qo4\\model.ckpt.\n",
            "INFO:tensorflow:loss = 249677.97, step = 1\n",
            "INFO:tensorflow:global_step/sec: 535.066\n",
            "INFO:tensorflow:loss = 43324.164, step = 101 (0.188 sec)\n",
            "INFO:tensorflow:global_step/sec: 769.598\n",
            "INFO:tensorflow:loss = 31723.104, step = 201 (0.131 sec)\n",
            "INFO:tensorflow:global_step/sec: 704.68\n",
            "INFO:tensorflow:loss = 17691.844, step = 301 (0.142 sec)\n",
            "INFO:tensorflow:global_step/sec: 741.116\n",
            "INFO:tensorflow:loss = 23626.918, step = 401 (0.134 sec)\n",
            "INFO:tensorflow:global_step/sec: 641.438\n",
            "INFO:tensorflow:loss = 35377.83, step = 501 (0.158 sec)\n",
            "INFO:tensorflow:global_step/sec: 617.637\n",
            "INFO:tensorflow:loss = 43608.836, step = 601 (0.162 sec)\n",
            "INFO:tensorflow:global_step/sec: 613.788\n",
            "INFO:tensorflow:loss = 57079.957, step = 701 (0.162 sec)\n",
            "INFO:tensorflow:global_step/sec: 621.536\n",
            "INFO:tensorflow:loss = 53238.57, step = 801 (0.160 sec)\n",
            "INFO:tensorflow:global_step/sec: 629.289\n",
            "INFO:tensorflow:loss = 51585.52, step = 901 (0.160 sec)\n",
            "INFO:tensorflow:global_step/sec: 617.64\n",
            "INFO:tensorflow:loss = 33052.6, step = 1001 (0.161 sec)\n",
            "INFO:tensorflow:global_step/sec: 599.109\n",
            "INFO:tensorflow:loss = 33963.72, step = 1101 (0.167 sec)\n",
            "INFO:tensorflow:global_step/sec: 613.884\n",
            "INFO:tensorflow:loss = 36027.984, step = 1201 (0.164 sec)\n",
            "INFO:tensorflow:global_step/sec: 592.002\n",
            "INFO:tensorflow:loss = 35679.336, step = 1301 (0.169 sec)\n",
            "INFO:tensorflow:global_step/sec: 617.698\n",
            "INFO:tensorflow:loss = 29496.22, step = 1401 (0.161 sec)\n",
            "INFO:tensorflow:global_step/sec: 637.263\n",
            "INFO:tensorflow:loss = 14663.454, step = 1501 (0.158 sec)\n",
            "INFO:tensorflow:global_step/sec: 637.31\n",
            "INFO:tensorflow:loss = 16010.729, step = 1601 (0.156 sec)\n",
            "INFO:tensorflow:global_step/sec: 610.083\n",
            "INFO:tensorflow:loss = 39675.812, step = 1701 (0.164 sec)\n",
            "INFO:tensorflow:global_step/sec: 613.909\n",
            "INFO:tensorflow:loss = 50586.395, step = 1801 (0.164 sec)\n"
          ],
          "name": "stdout"
        },
        {
          "output_type": "stream",
          "text": [
            "INFO:tensorflow:global_step/sec: 595.534\n",
            "INFO:tensorflow:loss = 39734.65, step = 1901 (0.170 sec)\n",
            "INFO:tensorflow:global_step/sec: 592.1\n",
            "INFO:tensorflow:loss = 18140.262, step = 2001 (0.169 sec)\n",
            "INFO:tensorflow:global_step/sec: 621.427\n",
            "INFO:tensorflow:loss = 25827.498, step = 2101 (0.160 sec)\n",
            "INFO:tensorflow:global_step/sec: 629.295\n",
            "INFO:tensorflow:loss = 36100.586, step = 2201 (0.158 sec)\n",
            "INFO:tensorflow:global_step/sec: 549.795\n",
            "INFO:tensorflow:loss = 37198.465, step = 2301 (0.182 sec)\n",
            "INFO:tensorflow:global_step/sec: 613.813\n",
            "INFO:tensorflow:loss = 45515.086, step = 2401 (0.162 sec)\n",
            "INFO:tensorflow:global_step/sec: 581.707\n",
            "INFO:tensorflow:loss = 43997.836, step = 2501 (0.173 sec)\n",
            "INFO:tensorflow:global_step/sec: 468.944\n",
            "INFO:tensorflow:loss = 39444.46, step = 2601 (0.215 sec)\n",
            "INFO:tensorflow:global_step/sec: 595.573\n",
            "INFO:tensorflow:loss = 36060.105, step = 2701 (0.166 sec)\n",
            "INFO:tensorflow:global_step/sec: 633.241\n",
            "INFO:tensorflow:loss = 31090.178, step = 2801 (0.159 sec)\n",
            "INFO:tensorflow:global_step/sec: 613.883\n",
            "INFO:tensorflow:loss = 23982.648, step = 2901 (0.166 sec)\n",
            "INFO:tensorflow:global_step/sec: 540.848\n",
            "INFO:tensorflow:loss = 20633.91, step = 3001 (0.181 sec)\n",
            "INFO:tensorflow:global_step/sec: 595.585\n",
            "INFO:tensorflow:loss = 16944.201, step = 3101 (0.168 sec)\n",
            "INFO:tensorflow:global_step/sec: 592.052\n",
            "INFO:tensorflow:loss = 20578.414, step = 3201 (0.169 sec)\n",
            "INFO:tensorflow:global_step/sec: 578.332\n",
            "INFO:tensorflow:loss = 24967.344, step = 3301 (0.172 sec)\n",
            "INFO:tensorflow:global_step/sec: 606.39\n",
            "INFO:tensorflow:loss = 30439.086, step = 3401 (0.166 sec)\n",
            "INFO:tensorflow:global_step/sec: 633.333\n",
            "INFO:tensorflow:loss = 29240.215, step = 3501 (0.158 sec)\n",
            "INFO:tensorflow:global_step/sec: 613.81\n",
            "INFO:tensorflow:loss = 34565.285, step = 3601 (0.162 sec)\n",
            "INFO:tensorflow:global_step/sec: 633.254\n",
            "INFO:tensorflow:loss = 42688.145, step = 3701 (0.159 sec)\n",
            "INFO:tensorflow:global_step/sec: 637.371\n",
            "INFO:tensorflow:loss = 31159.812, step = 3801 (0.157 sec)\n",
            "INFO:tensorflow:global_step/sec: 625.294\n",
            "INFO:tensorflow:loss = 27697.062, step = 3901 (0.160 sec)\n",
            "INFO:tensorflow:global_step/sec: 625.42\n",
            "INFO:tensorflow:loss = 22140.479, step = 4001 (0.159 sec)\n",
            "INFO:tensorflow:global_step/sec: 637.307\n",
            "INFO:tensorflow:loss = 20322.248, step = 4101 (0.158 sec)\n",
            "INFO:tensorflow:global_step/sec: 633.232\n",
            "INFO:tensorflow:loss = 19926.64, step = 4201 (0.158 sec)\n",
            "INFO:tensorflow:global_step/sec: 625.358\n",
            "INFO:tensorflow:loss = 16176.0205, step = 4301 (0.160 sec)\n",
            "INFO:tensorflow:global_step/sec: 633.276\n",
            "INFO:tensorflow:loss = 23858.965, step = 4401 (0.158 sec)\n",
            "INFO:tensorflow:global_step/sec: 629.289\n",
            "INFO:tensorflow:loss = 25905.98, step = 4501 (0.160 sec)\n",
            "INFO:tensorflow:global_step/sec: 637.307\n",
            "INFO:tensorflow:loss = 34591.582, step = 4601 (0.156 sec)\n",
            "INFO:tensorflow:global_step/sec: 629.28\n",
            "INFO:tensorflow:loss = 26069.494, step = 4701 (0.158 sec)\n",
            "INFO:tensorflow:global_step/sec: 637.308\n",
            "INFO:tensorflow:loss = 24021.209, step = 4801 (0.158 sec)\n",
            "INFO:tensorflow:global_step/sec: 624.953\n",
            "INFO:tensorflow:loss = 44565.72, step = 4901 (0.158 sec)\n",
            "INFO:tensorflow:Saving checkpoints for 5000 into C:\\Users\\andre\\AppData\\Local\\Temp\\tmpwc34_qo4\\model.ckpt.\n",
            "INFO:tensorflow:Loss for final step: 33407.574.\n",
            "INFO:tensorflow:Calling model_fn.\n",
            "INFO:tensorflow:Done calling model_fn.\n",
            "INFO:tensorflow:Graph was finalized.\n",
            "INFO:tensorflow:Restoring parameters from C:\\Users\\andre\\AppData\\Local\\Temp\\tmpwc34_qo4\\model.ckpt-5000\n",
            "INFO:tensorflow:Running local_init_op.\n",
            "INFO:tensorflow:Done running local_init_op.\n",
            "INFO:tensorflow:Using default config.\n",
            "WARNING:tensorflow:Using temporary folder as model directory: C:\\Users\\andre\\AppData\\Local\\Temp\\tmp7i34gq5o\n",
            "INFO:tensorflow:Using config: {'_model_dir': 'C:\\\\Users\\\\andre\\\\AppData\\\\Local\\\\Temp\\\\tmp7i34gq5o', '_tf_random_seed': None, '_save_summary_steps': 100, '_save_checkpoints_steps': None, '_save_checkpoints_secs': 600, '_session_config': allow_soft_placement: true\n",
            "graph_options {\n",
            "  rewrite_options {\n",
            "    meta_optimizer_iterations: ONE\n",
            "  }\n",
            "}\n",
            ", '_keep_checkpoint_max': 5, '_keep_checkpoint_every_n_hours': 10000, '_log_step_count_steps': 100, '_train_distribute': None, '_device_fn': None, '_protocol': None, '_eval_distribute': None, '_experimental_distribute': None, '_service': None, '_cluster_spec': <tensorflow.python.training.server_lib.ClusterSpec object at 0x000002FB4161BEF0>, '_task_type': 'worker', '_task_id': 0, '_global_id_in_cluster': 0, '_master': '', '_evaluation_master': '', '_is_chief': True, '_num_ps_replicas': 0, '_num_worker_replicas': 1}\n",
            "INFO:tensorflow:Calling model_fn.\n",
            "INFO:tensorflow:Done calling model_fn.\n",
            "INFO:tensorflow:Create CheckpointSaverHook.\n",
            "INFO:tensorflow:Graph was finalized.\n",
            "INFO:tensorflow:Running local_init_op.\n",
            "INFO:tensorflow:Done running local_init_op.\n",
            "INFO:tensorflow:Saving checkpoints for 0 into C:\\Users\\andre\\AppData\\Local\\Temp\\tmp7i34gq5o\\model.ckpt.\n",
            "INFO:tensorflow:loss = 249596.75, step = 1\n",
            "INFO:tensorflow:global_step/sec: 490.072\n",
            "INFO:tensorflow:loss = 49846.773, step = 101 (0.205 sec)\n",
            "INFO:tensorflow:global_step/sec: 725.025\n",
            "INFO:tensorflow:loss = 37811.504, step = 201 (0.139 sec)\n",
            "INFO:tensorflow:global_step/sec: 680.467\n",
            "INFO:tensorflow:loss = 19215.438, step = 301 (0.148 sec)\n",
            "INFO:tensorflow:global_step/sec: 662.614\n",
            "INFO:tensorflow:loss = 26998.426, step = 401 (0.151 sec)\n",
            "INFO:tensorflow:global_step/sec: 707.936\n",
            "INFO:tensorflow:loss = 40829.055, step = 501 (0.140 sec)\n",
            "INFO:tensorflow:global_step/sec: 645.531\n",
            "INFO:tensorflow:loss = 50517.13, step = 601 (0.155 sec)\n",
            "INFO:tensorflow:global_step/sec: 641.415\n",
            "INFO:tensorflow:loss = 71070.41, step = 701 (0.156 sec)\n",
            "INFO:tensorflow:global_step/sec: 671.57\n",
            "INFO:tensorflow:loss = 65158.38, step = 801 (0.149 sec)\n",
            "INFO:tensorflow:global_step/sec: 660.106\n",
            "INFO:tensorflow:loss = 61355.594, step = 901 (0.153 sec)\n",
            "INFO:tensorflow:global_step/sec: 699.679\n",
            "INFO:tensorflow:loss = 39743.113, step = 1001 (0.142 sec)\n",
            "INFO:tensorflow:global_step/sec: 833.844\n",
            "INFO:tensorflow:loss = 41064.453, step = 1101 (0.120 sec)\n",
            "INFO:tensorflow:global_step/sec: 763.767\n",
            "INFO:tensorflow:loss = 35558.246, step = 1201 (0.130 sec)\n",
            "INFO:tensorflow:global_step/sec: 676.086\n",
            "INFO:tensorflow:loss = 31930.553, step = 1301 (0.148 sec)\n",
            "INFO:tensorflow:global_step/sec: 629.292\n",
            "INFO:tensorflow:loss = 24690.426, step = 1401 (0.162 sec)\n",
            "INFO:tensorflow:global_step/sec: 621.471\n",
            "INFO:tensorflow:loss = 14570.874, step = 1501 (0.160 sec)\n",
            "INFO:tensorflow:global_step/sec: 631.088\n",
            "INFO:tensorflow:loss = 18930.549, step = 1601 (0.155 sec)\n",
            "INFO:tensorflow:global_step/sec: 625.358\n",
            "INFO:tensorflow:loss = 42687.504, step = 1701 (0.160 sec)\n",
            "INFO:tensorflow:global_step/sec: 633.272\n",
            "INFO:tensorflow:loss = 55502.234, step = 1801 (0.159 sec)\n",
            "INFO:tensorflow:global_step/sec: 610.106\n",
            "INFO:tensorflow:loss = 45520.97, step = 1901 (0.163 sec)\n",
            "INFO:tensorflow:global_step/sec: 629.292\n",
            "INFO:tensorflow:loss = 23629.871, step = 2001 (0.160 sec)\n",
            "INFO:tensorflow:global_step/sec: 625.335\n",
            "INFO:tensorflow:loss = 24790.697, step = 2101 (0.160 sec)\n",
            "INFO:tensorflow:global_step/sec: 629.3\n",
            "INFO:tensorflow:loss = 35748.586, step = 2201 (0.159 sec)\n",
            "INFO:tensorflow:global_step/sec: 603.757\n",
            "INFO:tensorflow:loss = 37781.11, step = 2301 (0.166 sec)\n",
            "INFO:tensorflow:global_step/sec: 625.357\n",
            "INFO:tensorflow:loss = 47232.17, step = 2401 (0.160 sec)\n",
            "INFO:tensorflow:global_step/sec: 625.349\n",
            "INFO:tensorflow:loss = 45923.254, step = 2501 (0.160 sec)\n",
            "INFO:tensorflow:global_step/sec: 617.683\n",
            "INFO:tensorflow:loss = 40206.188, step = 2601 (0.162 sec)\n",
            "INFO:tensorflow:global_step/sec: 621.413\n",
            "INFO:tensorflow:loss = 36466.117, step = 2701 (0.161 sec)\n",
            "INFO:tensorflow:global_step/sec: 621.537\n",
            "INFO:tensorflow:loss = 30424.773, step = 2801 (0.160 sec)\n",
            "INFO:tensorflow:global_step/sec: 619.228\n",
            "INFO:tensorflow:loss = 28800.021, step = 2901 (0.161 sec)\n",
            "INFO:tensorflow:global_step/sec: 633.275\n",
            "INFO:tensorflow:loss = 25264.945, step = 3001 (0.159 sec)\n",
            "INFO:tensorflow:global_step/sec: 613.849\n",
            "INFO:tensorflow:loss = 16128.655, step = 3101 (0.162 sec)\n",
            "INFO:tensorflow:global_step/sec: 621.471\n",
            "INFO:tensorflow:loss = 23148.004, step = 3201 (0.163 sec)\n",
            "INFO:tensorflow:global_step/sec: 633.274\n",
            "INFO:tensorflow:loss = 31112.25, step = 3301 (0.157 sec)\n",
            "INFO:tensorflow:global_step/sec: 617.676\n",
            "INFO:tensorflow:loss = 36152.656, step = 3401 (0.162 sec)\n"
          ],
          "name": "stdout"
        },
        {
          "output_type": "stream",
          "text": [
            "INFO:tensorflow:global_step/sec: 637.308\n",
            "INFO:tensorflow:loss = 28661.922, step = 3501 (0.158 sec)\n",
            "INFO:tensorflow:global_step/sec: 636.936\n",
            "INFO:tensorflow:loss = 35304.324, step = 3601 (0.155 sec)\n",
            "INFO:tensorflow:global_step/sec: 626.706\n",
            "INFO:tensorflow:loss = 43343.523, step = 3701 (0.162 sec)\n",
            "INFO:tensorflow:global_step/sec: 629.289\n",
            "INFO:tensorflow:loss = 30218.307, step = 3801 (0.157 sec)\n",
            "INFO:tensorflow:global_step/sec: 629.293\n",
            "INFO:tensorflow:loss = 27705.705, step = 3901 (0.160 sec)\n",
            "INFO:tensorflow:global_step/sec: 629.328\n",
            "INFO:tensorflow:loss = 22316.531, step = 4001 (0.159 sec)\n",
            "INFO:tensorflow:global_step/sec: 629.277\n",
            "INFO:tensorflow:loss = 20439.89, step = 4101 (0.160 sec)\n",
            "INFO:tensorflow:global_step/sec: 599.125\n",
            "INFO:tensorflow:loss = 20029.848, step = 4201 (0.166 sec)\n",
            "INFO:tensorflow:global_step/sec: 641.389\n",
            "INFO:tensorflow:loss = 16544.32, step = 4301 (0.155 sec)\n",
            "INFO:tensorflow:global_step/sec: 628.046\n",
            "INFO:tensorflow:loss = 25158.676, step = 4401 (0.160 sec)\n",
            "INFO:tensorflow:global_step/sec: 637.287\n",
            "INFO:tensorflow:loss = 28405.455, step = 4501 (0.159 sec)\n",
            "INFO:tensorflow:global_step/sec: 637.304\n",
            "INFO:tensorflow:loss = 37568.848, step = 4601 (0.155 sec)\n",
            "INFO:tensorflow:global_step/sec: 579.512\n",
            "INFO:tensorflow:loss = 28551.875, step = 4701 (0.174 sec)\n",
            "INFO:tensorflow:global_step/sec: 571.757\n",
            "INFO:tensorflow:loss = 25398.05, step = 4801 (0.177 sec)\n",
            "INFO:tensorflow:global_step/sec: 602.755\n",
            "INFO:tensorflow:loss = 42092.523, step = 4901 (0.162 sec)\n",
            "INFO:tensorflow:Saving checkpoints for 5000 into C:\\Users\\andre\\AppData\\Local\\Temp\\tmp7i34gq5o\\model.ckpt.\n",
            "INFO:tensorflow:Loss for final step: 35697.035.\n",
            "INFO:tensorflow:Calling model_fn.\n",
            "INFO:tensorflow:Done calling model_fn.\n",
            "INFO:tensorflow:Graph was finalized.\n",
            "INFO:tensorflow:Restoring parameters from C:\\Users\\andre\\AppData\\Local\\Temp\\tmp7i34gq5o\\model.ckpt-5000\n",
            "INFO:tensorflow:Running local_init_op.\n",
            "INFO:tensorflow:Done running local_init_op.\n"
          ],
          "name": "stdout"
        }
      ]
    },
    {
      "metadata": {
        "id": "ily8wtHtYy8o",
        "colab_type": "code",
        "outputId": "bd928098-bf17-4582-d588-34d2dced2cdb",
        "colab": {}
      },
      "cell_type": "code",
      "source": [
        "print(\"MSE Cross validation: \", np.array(resultado_cross).sum()/len(resultado_cross))"
      ],
      "execution_count": 0,
      "outputs": [
        {
          "output_type": "stream",
          "text": [
            "MSE Cross validation:  3058.5087658175407\n"
          ],
          "name": "stdout"
        }
      ]
    }
  ]
}